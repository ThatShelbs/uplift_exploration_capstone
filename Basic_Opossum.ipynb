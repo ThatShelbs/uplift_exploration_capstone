{
 "cells": [
  {
   "cell_type": "markdown",
   "metadata": {},
   "source": [
    "# Opossum Basic\n",
    "A synthetic data generator for causal impact and uplift analysis.\n",
    "\n",
    "We are setting out to make a dataset that is simple and pretty small."
   ]
  },
  {
   "cell_type": "code",
   "execution_count": 2,
   "metadata": {
    "ExecuteTime": {
     "end_time": "2020-05-03T23:47:48.456118Z",
     "start_time": "2020-05-03T23:47:44.551300Z"
    }
   },
   "outputs": [],
   "source": [
    "from opossum import UserInterface\n",
    "import pandas as pd\n",
    "import numpy as np\n",
    "import seaborn as sns\n",
    "import matplotlib.pyplot as plt\n",
    "from scipy import stats\n",
    "\n",
    "import warnings\n",
    "warnings.filterwarnings('ignore')"
   ]
  },
  {
   "cell_type": "markdown",
   "metadata": {},
   "source": [
    "## Settings\n",
    "6 features will be continuous\n",
    "4 features will be categorical (100% binary)\n",
    "\n",
    "Assignment to exposure of advertisement (treatment) will be random at a probably of 50%\n",
    "\n",
    "The intensity of the lift will be moderate (8 on a scale of 10)"
   ]
  },
  {
   "cell_type": "code",
   "execution_count": 3,
   "metadata": {
    "ExecuteTime": {
     "end_time": "2020-05-03T23:47:48.639322Z",
     "start_time": "2020-05-03T23:47:48.460244Z"
    }
   },
   "outputs": [],
   "source": [
    "# number of observations N and number of covariates k\n",
    "N = 50000\n",
    "k = 10\n",
    "\n",
    "# initilizing class\n",
    "u = UserInterface(N, k, seed=847, categorical_covariates = [4,2])\n",
    "\n",
    "# assign treatment and generate treatment effect inside of class object\n",
    "u.generate_treatment(random_assignment = True, \n",
    "                     assignment_prob = 0.5, \n",
    "                     treatment_option_weights = [.10,.033,0.80,0.033,0.034,.0], \n",
    "                     intensity = 10)"
   ]
  },
  {
   "cell_type": "markdown",
   "metadata": {},
   "source": [
    "This will generate the needed output as four objects.\n",
    " - X contains the features\n",
    " - y contains the outcome\n",
    " - assignment represents if they were exposed to treatment\n",
    " - treatment represents the effect of treatment"
   ]
  },
  {
   "cell_type": "code",
   "execution_count": 4,
   "metadata": {
    "ExecuteTime": {
     "end_time": "2020-05-03T23:47:48.654150Z",
     "start_time": "2020-05-03T23:47:48.642273Z"
    }
   },
   "outputs": [],
   "source": [
    "# Creating continuous y with partial nonlinear relation \n",
    "    #X contains the features, y contains the outcome,\n",
    "    #assignment represents if they were exposed to treatment\n",
    "y, X, assignment, treatment = u.output_data(binary=False, x_y_relation = 'linear_simple')"
   ]
  },
  {
   "cell_type": "code",
   "execution_count": 5,
   "metadata": {
    "ExecuteTime": {
     "end_time": "2020-05-03T23:47:48.663888Z",
     "start_time": "2020-05-03T23:47:48.658277Z"
    }
   },
   "outputs": [],
   "source": [
    "sim_data_X = pd.DataFrame(X)\n",
    "sim_data_y = pd.DataFrame(y)\n",
    "sim_data_assign = pd.DataFrame(assignment)\n",
    "sim_data_treat = pd.DataFrame(treatment)"
   ]
  },
  {
   "cell_type": "code",
   "execution_count": 6,
   "metadata": {
    "ExecuteTime": {
     "end_time": "2020-05-03T23:47:49.198889Z",
     "start_time": "2020-05-03T23:47:49.182755Z"
    }
   },
   "outputs": [],
   "source": [
    "sim_data_X = sim_data_X.rename(columns=lambda s: 'feature_'+str(s))\n",
    "sim_data_y = sim_data_y.rename(columns={0:'response_cont'})\n",
    "sim_data_assign = sim_data_assign.rename(columns={0:'exposed'})\n",
    "sim_data_treat = sim_data_treat.rename(columns={0:'true_lift'})"
   ]
  },
  {
   "cell_type": "code",
   "execution_count": 7,
   "metadata": {
    "ExecuteTime": {
     "end_time": "2020-05-03T23:47:49.977928Z",
     "start_time": "2020-05-03T23:47:49.895769Z"
    }
   },
   "outputs": [
    {
     "data": {
      "text/html": [
       "<div>\n",
       "<style scoped>\n",
       "    .dataframe tbody tr th:only-of-type {\n",
       "        vertical-align: middle;\n",
       "    }\n",
       "\n",
       "    .dataframe tbody tr th {\n",
       "        vertical-align: top;\n",
       "    }\n",
       "\n",
       "    .dataframe thead th {\n",
       "        text-align: right;\n",
       "    }\n",
       "</style>\n",
       "<table border=\"1\" class=\"dataframe\">\n",
       "  <thead>\n",
       "    <tr style=\"text-align: right;\">\n",
       "      <th></th>\n",
       "      <th>feature_0</th>\n",
       "      <th>feature_1</th>\n",
       "      <th>feature_2</th>\n",
       "      <th>feature_3</th>\n",
       "      <th>feature_4</th>\n",
       "      <th>feature_5</th>\n",
       "      <th>feature_6</th>\n",
       "      <th>feature_7</th>\n",
       "      <th>feature_8</th>\n",
       "      <th>feature_9</th>\n",
       "      <th>response_cont</th>\n",
       "      <th>exposed</th>\n",
       "      <th>true_lift</th>\n",
       "    </tr>\n",
       "  </thead>\n",
       "  <tbody>\n",
       "    <tr>\n",
       "      <th>21506</th>\n",
       "      <td>1.0</td>\n",
       "      <td>0.0</td>\n",
       "      <td>1.0</td>\n",
       "      <td>0.0</td>\n",
       "      <td>2.155448</td>\n",
       "      <td>0.033159</td>\n",
       "      <td>1.787768</td>\n",
       "      <td>-1.835746</td>\n",
       "      <td>-1.255110</td>\n",
       "      <td>0.839666</td>\n",
       "      <td>3.388751</td>\n",
       "      <td>1</td>\n",
       "      <td>0.736314</td>\n",
       "    </tr>\n",
       "    <tr>\n",
       "      <th>33402</th>\n",
       "      <td>1.0</td>\n",
       "      <td>0.0</td>\n",
       "      <td>1.0</td>\n",
       "      <td>1.0</td>\n",
       "      <td>-0.340882</td>\n",
       "      <td>0.018064</td>\n",
       "      <td>-0.885466</td>\n",
       "      <td>-0.796198</td>\n",
       "      <td>0.653962</td>\n",
       "      <td>0.694969</td>\n",
       "      <td>0.271448</td>\n",
       "      <td>0</td>\n",
       "      <td>0.000000</td>\n",
       "    </tr>\n",
       "    <tr>\n",
       "      <th>4259</th>\n",
       "      <td>0.0</td>\n",
       "      <td>0.0</td>\n",
       "      <td>1.0</td>\n",
       "      <td>0.0</td>\n",
       "      <td>-1.795870</td>\n",
       "      <td>-0.728151</td>\n",
       "      <td>0.141135</td>\n",
       "      <td>3.148272</td>\n",
       "      <td>1.416452</td>\n",
       "      <td>2.543406</td>\n",
       "      <td>-1.084825</td>\n",
       "      <td>0</td>\n",
       "      <td>0.000000</td>\n",
       "    </tr>\n",
       "    <tr>\n",
       "      <th>15812</th>\n",
       "      <td>0.0</td>\n",
       "      <td>0.0</td>\n",
       "      <td>1.0</td>\n",
       "      <td>0.0</td>\n",
       "      <td>-0.816898</td>\n",
       "      <td>0.952955</td>\n",
       "      <td>2.011959</td>\n",
       "      <td>-1.525844</td>\n",
       "      <td>-0.827896</td>\n",
       "      <td>-0.480702</td>\n",
       "      <td>1.317494</td>\n",
       "      <td>0</td>\n",
       "      <td>0.000000</td>\n",
       "    </tr>\n",
       "    <tr>\n",
       "      <th>2103</th>\n",
       "      <td>1.0</td>\n",
       "      <td>1.0</td>\n",
       "      <td>1.0</td>\n",
       "      <td>1.0</td>\n",
       "      <td>-0.425403</td>\n",
       "      <td>-2.367043</td>\n",
       "      <td>-2.096181</td>\n",
       "      <td>-1.107911</td>\n",
       "      <td>0.960266</td>\n",
       "      <td>-0.688364</td>\n",
       "      <td>-0.195929</td>\n",
       "      <td>0</td>\n",
       "      <td>0.000000</td>\n",
       "    </tr>\n",
       "    <tr>\n",
       "      <th>35980</th>\n",
       "      <td>0.0</td>\n",
       "      <td>0.0</td>\n",
       "      <td>1.0</td>\n",
       "      <td>0.0</td>\n",
       "      <td>-1.571334</td>\n",
       "      <td>-0.448516</td>\n",
       "      <td>0.089660</td>\n",
       "      <td>1.653425</td>\n",
       "      <td>0.539207</td>\n",
       "      <td>3.223408</td>\n",
       "      <td>0.637792</td>\n",
       "      <td>0</td>\n",
       "      <td>0.000000</td>\n",
       "    </tr>\n",
       "    <tr>\n",
       "      <th>3097</th>\n",
       "      <td>0.0</td>\n",
       "      <td>0.0</td>\n",
       "      <td>1.0</td>\n",
       "      <td>0.0</td>\n",
       "      <td>-1.465688</td>\n",
       "      <td>-1.722329</td>\n",
       "      <td>0.125052</td>\n",
       "      <td>3.292076</td>\n",
       "      <td>0.839727</td>\n",
       "      <td>3.306909</td>\n",
       "      <td>0.025863</td>\n",
       "      <td>1</td>\n",
       "      <td>0.000000</td>\n",
       "    </tr>\n",
       "    <tr>\n",
       "      <th>2818</th>\n",
       "      <td>0.0</td>\n",
       "      <td>0.0</td>\n",
       "      <td>1.0</td>\n",
       "      <td>1.0</td>\n",
       "      <td>2.813737</td>\n",
       "      <td>-0.867313</td>\n",
       "      <td>1.354885</td>\n",
       "      <td>2.039070</td>\n",
       "      <td>0.516215</td>\n",
       "      <td>-0.570346</td>\n",
       "      <td>5.005760</td>\n",
       "      <td>1</td>\n",
       "      <td>2.481033</td>\n",
       "    </tr>\n",
       "    <tr>\n",
       "      <th>29977</th>\n",
       "      <td>1.0</td>\n",
       "      <td>1.0</td>\n",
       "      <td>1.0</td>\n",
       "      <td>1.0</td>\n",
       "      <td>-2.656314</td>\n",
       "      <td>-2.860969</td>\n",
       "      <td>-3.330879</td>\n",
       "      <td>-1.297415</td>\n",
       "      <td>1.056418</td>\n",
       "      <td>-1.294238</td>\n",
       "      <td>0.068777</td>\n",
       "      <td>0</td>\n",
       "      <td>0.000000</td>\n",
       "    </tr>\n",
       "    <tr>\n",
       "      <th>6364</th>\n",
       "      <td>1.0</td>\n",
       "      <td>1.0</td>\n",
       "      <td>1.0</td>\n",
       "      <td>0.0</td>\n",
       "      <td>0.526664</td>\n",
       "      <td>-1.056221</td>\n",
       "      <td>-1.266250</td>\n",
       "      <td>1.922727</td>\n",
       "      <td>3.235921</td>\n",
       "      <td>-0.108644</td>\n",
       "      <td>1.890046</td>\n",
       "      <td>1</td>\n",
       "      <td>0.399169</td>\n",
       "    </tr>\n",
       "    <tr>\n",
       "      <th>3437</th>\n",
       "      <td>0.0</td>\n",
       "      <td>0.0</td>\n",
       "      <td>1.0</td>\n",
       "      <td>1.0</td>\n",
       "      <td>1.817380</td>\n",
       "      <td>0.207432</td>\n",
       "      <td>-0.436740</td>\n",
       "      <td>0.893922</td>\n",
       "      <td>2.341582</td>\n",
       "      <td>0.054259</td>\n",
       "      <td>0.177507</td>\n",
       "      <td>0</td>\n",
       "      <td>0.000000</td>\n",
       "    </tr>\n",
       "    <tr>\n",
       "      <th>19037</th>\n",
       "      <td>1.0</td>\n",
       "      <td>1.0</td>\n",
       "      <td>1.0</td>\n",
       "      <td>1.0</td>\n",
       "      <td>-0.475666</td>\n",
       "      <td>-0.869419</td>\n",
       "      <td>-3.003846</td>\n",
       "      <td>-2.445272</td>\n",
       "      <td>-4.665354</td>\n",
       "      <td>-1.281864</td>\n",
       "      <td>-2.093322</td>\n",
       "      <td>0</td>\n",
       "      <td>0.000000</td>\n",
       "    </tr>\n",
       "    <tr>\n",
       "      <th>44431</th>\n",
       "      <td>0.0</td>\n",
       "      <td>1.0</td>\n",
       "      <td>0.0</td>\n",
       "      <td>0.0</td>\n",
       "      <td>0.860348</td>\n",
       "      <td>1.894903</td>\n",
       "      <td>-0.864184</td>\n",
       "      <td>-2.203332</td>\n",
       "      <td>0.611325</td>\n",
       "      <td>0.191566</td>\n",
       "      <td>0.693673</td>\n",
       "      <td>1</td>\n",
       "      <td>0.000000</td>\n",
       "    </tr>\n",
       "    <tr>\n",
       "      <th>9115</th>\n",
       "      <td>1.0</td>\n",
       "      <td>0.0</td>\n",
       "      <td>1.0</td>\n",
       "      <td>1.0</td>\n",
       "      <td>2.105354</td>\n",
       "      <td>0.437764</td>\n",
       "      <td>-0.752747</td>\n",
       "      <td>0.424746</td>\n",
       "      <td>0.390744</td>\n",
       "      <td>-1.376383</td>\n",
       "      <td>2.749049</td>\n",
       "      <td>1</td>\n",
       "      <td>2.000000</td>\n",
       "    </tr>\n",
       "    <tr>\n",
       "      <th>19666</th>\n",
       "      <td>0.0</td>\n",
       "      <td>0.0</td>\n",
       "      <td>1.0</td>\n",
       "      <td>1.0</td>\n",
       "      <td>1.814612</td>\n",
       "      <td>0.436238</td>\n",
       "      <td>3.023585</td>\n",
       "      <td>-2.252281</td>\n",
       "      <td>-3.241461</td>\n",
       "      <td>1.041889</td>\n",
       "      <td>-0.827088</td>\n",
       "      <td>0</td>\n",
       "      <td>0.000000</td>\n",
       "    </tr>\n",
       "    <tr>\n",
       "      <th>14657</th>\n",
       "      <td>1.0</td>\n",
       "      <td>0.0</td>\n",
       "      <td>0.0</td>\n",
       "      <td>1.0</td>\n",
       "      <td>2.399963</td>\n",
       "      <td>-1.970323</td>\n",
       "      <td>-2.802821</td>\n",
       "      <td>2.181429</td>\n",
       "      <td>-1.141571</td>\n",
       "      <td>-0.759722</td>\n",
       "      <td>-3.194309</td>\n",
       "      <td>0</td>\n",
       "      <td>0.000000</td>\n",
       "    </tr>\n",
       "    <tr>\n",
       "      <th>6561</th>\n",
       "      <td>0.0</td>\n",
       "      <td>0.0</td>\n",
       "      <td>1.0</td>\n",
       "      <td>1.0</td>\n",
       "      <td>-3.681497</td>\n",
       "      <td>-1.193989</td>\n",
       "      <td>-0.465371</td>\n",
       "      <td>-4.184302</td>\n",
       "      <td>1.521174</td>\n",
       "      <td>-0.951045</td>\n",
       "      <td>-0.658967</td>\n",
       "      <td>0</td>\n",
       "      <td>0.000000</td>\n",
       "    </tr>\n",
       "    <tr>\n",
       "      <th>31868</th>\n",
       "      <td>1.0</td>\n",
       "      <td>0.0</td>\n",
       "      <td>1.0</td>\n",
       "      <td>0.0</td>\n",
       "      <td>-3.787025</td>\n",
       "      <td>-0.533247</td>\n",
       "      <td>2.178908</td>\n",
       "      <td>-1.291349</td>\n",
       "      <td>1.927424</td>\n",
       "      <td>-2.749010</td>\n",
       "      <td>0.768578</td>\n",
       "      <td>0</td>\n",
       "      <td>0.000000</td>\n",
       "    </tr>\n",
       "    <tr>\n",
       "      <th>9673</th>\n",
       "      <td>0.0</td>\n",
       "      <td>0.0</td>\n",
       "      <td>1.0</td>\n",
       "      <td>0.0</td>\n",
       "      <td>-0.226945</td>\n",
       "      <td>0.582831</td>\n",
       "      <td>2.471867</td>\n",
       "      <td>-2.198191</td>\n",
       "      <td>-1.540530</td>\n",
       "      <td>-0.572297</td>\n",
       "      <td>0.041044</td>\n",
       "      <td>0</td>\n",
       "      <td>0.000000</td>\n",
       "    </tr>\n",
       "    <tr>\n",
       "      <th>31837</th>\n",
       "      <td>1.0</td>\n",
       "      <td>1.0</td>\n",
       "      <td>1.0</td>\n",
       "      <td>1.0</td>\n",
       "      <td>-0.099804</td>\n",
       "      <td>1.376803</td>\n",
       "      <td>0.893261</td>\n",
       "      <td>-0.659386</td>\n",
       "      <td>-1.842103</td>\n",
       "      <td>0.784850</td>\n",
       "      <td>2.570622</td>\n",
       "      <td>1</td>\n",
       "      <td>2.266713</td>\n",
       "    </tr>\n",
       "    <tr>\n",
       "      <th>9153</th>\n",
       "      <td>0.0</td>\n",
       "      <td>0.0</td>\n",
       "      <td>0.0</td>\n",
       "      <td>1.0</td>\n",
       "      <td>2.741753</td>\n",
       "      <td>-0.504379</td>\n",
       "      <td>-1.683700</td>\n",
       "      <td>1.895021</td>\n",
       "      <td>-3.823461</td>\n",
       "      <td>1.355860</td>\n",
       "      <td>3.698945</td>\n",
       "      <td>1</td>\n",
       "      <td>2.065202</td>\n",
       "    </tr>\n",
       "    <tr>\n",
       "      <th>33033</th>\n",
       "      <td>1.0</td>\n",
       "      <td>1.0</td>\n",
       "      <td>1.0</td>\n",
       "      <td>0.0</td>\n",
       "      <td>-0.809008</td>\n",
       "      <td>2.957221</td>\n",
       "      <td>3.610581</td>\n",
       "      <td>-0.073675</td>\n",
       "      <td>2.376069</td>\n",
       "      <td>1.034109</td>\n",
       "      <td>0.016828</td>\n",
       "      <td>1</td>\n",
       "      <td>0.170843</td>\n",
       "    </tr>\n",
       "    <tr>\n",
       "      <th>23131</th>\n",
       "      <td>0.0</td>\n",
       "      <td>0.0</td>\n",
       "      <td>1.0</td>\n",
       "      <td>0.0</td>\n",
       "      <td>0.435693</td>\n",
       "      <td>0.654821</td>\n",
       "      <td>1.046616</td>\n",
       "      <td>4.481878</td>\n",
       "      <td>1.643874</td>\n",
       "      <td>1.985898</td>\n",
       "      <td>1.397289</td>\n",
       "      <td>0</td>\n",
       "      <td>0.000000</td>\n",
       "    </tr>\n",
       "    <tr>\n",
       "      <th>34762</th>\n",
       "      <td>0.0</td>\n",
       "      <td>1.0</td>\n",
       "      <td>1.0</td>\n",
       "      <td>1.0</td>\n",
       "      <td>-1.697074</td>\n",
       "      <td>2.177210</td>\n",
       "      <td>-2.561731</td>\n",
       "      <td>-1.850844</td>\n",
       "      <td>2.404559</td>\n",
       "      <td>-2.570590</td>\n",
       "      <td>0.006462</td>\n",
       "      <td>0</td>\n",
       "      <td>0.000000</td>\n",
       "    </tr>\n",
       "    <tr>\n",
       "      <th>25917</th>\n",
       "      <td>1.0</td>\n",
       "      <td>1.0</td>\n",
       "      <td>1.0</td>\n",
       "      <td>0.0</td>\n",
       "      <td>1.869888</td>\n",
       "      <td>0.558222</td>\n",
       "      <td>2.005898</td>\n",
       "      <td>-2.037182</td>\n",
       "      <td>0.807435</td>\n",
       "      <td>0.472201</td>\n",
       "      <td>-0.273826</td>\n",
       "      <td>1</td>\n",
       "      <td>0.690329</td>\n",
       "    </tr>\n",
       "  </tbody>\n",
       "</table>\n",
       "</div>"
      ],
      "text/plain": [
       "       feature_0  feature_1  feature_2  feature_3  feature_4  feature_5  \\\n",
       "21506        1.0        0.0        1.0        0.0   2.155448   0.033159   \n",
       "33402        1.0        0.0        1.0        1.0  -0.340882   0.018064   \n",
       "4259         0.0        0.0        1.0        0.0  -1.795870  -0.728151   \n",
       "15812        0.0        0.0        1.0        0.0  -0.816898   0.952955   \n",
       "2103         1.0        1.0        1.0        1.0  -0.425403  -2.367043   \n",
       "35980        0.0        0.0        1.0        0.0  -1.571334  -0.448516   \n",
       "3097         0.0        0.0        1.0        0.0  -1.465688  -1.722329   \n",
       "2818         0.0        0.0        1.0        1.0   2.813737  -0.867313   \n",
       "29977        1.0        1.0        1.0        1.0  -2.656314  -2.860969   \n",
       "6364         1.0        1.0        1.0        0.0   0.526664  -1.056221   \n",
       "3437         0.0        0.0        1.0        1.0   1.817380   0.207432   \n",
       "19037        1.0        1.0        1.0        1.0  -0.475666  -0.869419   \n",
       "44431        0.0        1.0        0.0        0.0   0.860348   1.894903   \n",
       "9115         1.0        0.0        1.0        1.0   2.105354   0.437764   \n",
       "19666        0.0        0.0        1.0        1.0   1.814612   0.436238   \n",
       "14657        1.0        0.0        0.0        1.0   2.399963  -1.970323   \n",
       "6561         0.0        0.0        1.0        1.0  -3.681497  -1.193989   \n",
       "31868        1.0        0.0        1.0        0.0  -3.787025  -0.533247   \n",
       "9673         0.0        0.0        1.0        0.0  -0.226945   0.582831   \n",
       "31837        1.0        1.0        1.0        1.0  -0.099804   1.376803   \n",
       "9153         0.0        0.0        0.0        1.0   2.741753  -0.504379   \n",
       "33033        1.0        1.0        1.0        0.0  -0.809008   2.957221   \n",
       "23131        0.0        0.0        1.0        0.0   0.435693   0.654821   \n",
       "34762        0.0        1.0        1.0        1.0  -1.697074   2.177210   \n",
       "25917        1.0        1.0        1.0        0.0   1.869888   0.558222   \n",
       "\n",
       "       feature_6  feature_7  feature_8  feature_9  response_cont  exposed  \\\n",
       "21506   1.787768  -1.835746  -1.255110   0.839666       3.388751        1   \n",
       "33402  -0.885466  -0.796198   0.653962   0.694969       0.271448        0   \n",
       "4259    0.141135   3.148272   1.416452   2.543406      -1.084825        0   \n",
       "15812   2.011959  -1.525844  -0.827896  -0.480702       1.317494        0   \n",
       "2103   -2.096181  -1.107911   0.960266  -0.688364      -0.195929        0   \n",
       "35980   0.089660   1.653425   0.539207   3.223408       0.637792        0   \n",
       "3097    0.125052   3.292076   0.839727   3.306909       0.025863        1   \n",
       "2818    1.354885   2.039070   0.516215  -0.570346       5.005760        1   \n",
       "29977  -3.330879  -1.297415   1.056418  -1.294238       0.068777        0   \n",
       "6364   -1.266250   1.922727   3.235921  -0.108644       1.890046        1   \n",
       "3437   -0.436740   0.893922   2.341582   0.054259       0.177507        0   \n",
       "19037  -3.003846  -2.445272  -4.665354  -1.281864      -2.093322        0   \n",
       "44431  -0.864184  -2.203332   0.611325   0.191566       0.693673        1   \n",
       "9115   -0.752747   0.424746   0.390744  -1.376383       2.749049        1   \n",
       "19666   3.023585  -2.252281  -3.241461   1.041889      -0.827088        0   \n",
       "14657  -2.802821   2.181429  -1.141571  -0.759722      -3.194309        0   \n",
       "6561   -0.465371  -4.184302   1.521174  -0.951045      -0.658967        0   \n",
       "31868   2.178908  -1.291349   1.927424  -2.749010       0.768578        0   \n",
       "9673    2.471867  -2.198191  -1.540530  -0.572297       0.041044        0   \n",
       "31837   0.893261  -0.659386  -1.842103   0.784850       2.570622        1   \n",
       "9153   -1.683700   1.895021  -3.823461   1.355860       3.698945        1   \n",
       "33033   3.610581  -0.073675   2.376069   1.034109       0.016828        1   \n",
       "23131   1.046616   4.481878   1.643874   1.985898       1.397289        0   \n",
       "34762  -2.561731  -1.850844   2.404559  -2.570590       0.006462        0   \n",
       "25917   2.005898  -2.037182   0.807435   0.472201      -0.273826        1   \n",
       "\n",
       "       true_lift  \n",
       "21506   0.736314  \n",
       "33402   0.000000  \n",
       "4259    0.000000  \n",
       "15812   0.000000  \n",
       "2103    0.000000  \n",
       "35980   0.000000  \n",
       "3097    0.000000  \n",
       "2818    2.481033  \n",
       "29977   0.000000  \n",
       "6364    0.399169  \n",
       "3437    0.000000  \n",
       "19037   0.000000  \n",
       "44431   0.000000  \n",
       "9115    2.000000  \n",
       "19666   0.000000  \n",
       "14657   0.000000  \n",
       "6561    0.000000  \n",
       "31868   0.000000  \n",
       "9673    0.000000  \n",
       "31837   2.266713  \n",
       "9153    2.065202  \n",
       "33033   0.170843  \n",
       "23131   0.000000  \n",
       "34762   0.000000  \n",
       "25917   0.690329  "
      ]
     },
     "execution_count": 7,
     "metadata": {},
     "output_type": "execute_result"
    }
   ],
   "source": [
    "sim_data = pd.merge(sim_data_X, sim_data_y, left_index=True, right_index=True)\n",
    "sim_data = pd.merge(sim_data, sim_data_assign, left_index=True, right_index=True)\n",
    "sim_data = pd.merge(sim_data, sim_data_treat, left_index=True, right_index=True)\n",
    "sim_data.sample(25)"
   ]
  },
  {
   "cell_type": "markdown",
   "metadata": {},
   "source": [
    "## Custom Binary Response\n",
    "\n",
    "We will have a binary response built on the top 50 percentile of the response cont field"
   ]
  },
  {
   "cell_type": "code",
   "execution_count": 8,
   "metadata": {
    "ExecuteTime": {
     "end_time": "2020-05-03T23:47:51.646247Z",
     "start_time": "2020-05-03T23:47:51.312911Z"
    }
   },
   "outputs": [
    {
     "data": {
      "image/png": "[encoded data removed]",
      "text/plain": [
       "<Figure size 432x288 with 1 Axes>"
      ]
     },
     "metadata": {
      "needs_background": "light"
     },
     "output_type": "display_data"
    }
   ],
   "source": [
    "sns.distplot(sim_data[sim_data['exposed']==1]['true_lift']);"
   ]
  },
  {
   "cell_type": "code",
   "execution_count": 9,
   "metadata": {
    "ExecuteTime": {
     "end_time": "2020-05-03T23:47:52.556259Z",
     "start_time": "2020-05-03T23:47:52.028499Z"
    }
   },
   "outputs": [
    {
     "data": {
      "image/png": "[encoded data removed]",
      "text/plain": [
       "<Figure size 432x288 with 1 Axes>"
      ]
     },
     "metadata": {
      "needs_background": "light"
     },
     "output_type": "display_data"
    }
   ],
   "source": [
    "sns.distplot(sim_data['response_cont']);\n",
    "sns.distplot(sim_data['response_cont']-sim_data['true_lift']);"
   ]
  },
  {
   "cell_type": "code",
   "execution_count": 10,
   "metadata": {
    "ExecuteTime": {
     "end_time": "2020-05-03T23:47:53.528370Z",
     "start_time": "2020-05-03T23:47:53.052469Z"
    }
   },
   "outputs": [
    {
     "data": {
      "image/png": "[encoded data removed]",
      "text/plain": [
       "<Figure size 432x288 with 1 Axes>"
      ]
     },
     "metadata": {
      "needs_background": "light"
     },
     "output_type": "display_data"
    }
   ],
   "source": [
    "exposed_df = sim_data[sim_data['exposed']==1]\n",
    "sns.distplot(exposed_df['response_cont']);\n",
    "sns.distplot(exposed_df['response_cont']-exposed_df['true_lift']);"
   ]
  },
  {
   "cell_type": "code",
   "execution_count": 11,
   "metadata": {
    "ExecuteTime": {
     "end_time": "2020-05-03T23:47:53.845554Z",
     "start_time": "2020-05-03T23:47:53.839771Z"
    }
   },
   "outputs": [],
   "source": [
    "sim_data['response_cont_prior'] = sim_data['response_cont']-sim_data['true_lift']"
   ]
  },
  {
   "cell_type": "code",
   "execution_count": 12,
   "metadata": {
    "ExecuteTime": {
     "end_time": "2020-05-03T23:47:54.462686Z",
     "start_time": "2020-05-03T23:47:54.401408Z"
    }
   },
   "outputs": [],
   "source": [
    "sim_data['conversion'] = 0\n",
    "sim_data['conversion_post'] = 0\n",
    "sim_data.loc[sim_data['response_cont_prior'] < sim_data['response_cont_prior'].quantile(q=.50), 'conversion'] = 0\n",
    "sim_data.loc[sim_data['response_cont_prior'] >= sim_data['response_cont_prior'].quantile(q=.50), 'conversion'] = 1\n",
    "sim_data.loc[sim_data['response_cont'] < sim_data['response_cont_prior'].quantile(q=.50), 'conversion_post'] = 0\n",
    "sim_data.loc[sim_data['response_cont'] >= sim_data['response_cont_prior'].quantile(q=.50), 'conversion_post'] = 1"
   ]
  },
  {
   "cell_type": "code",
   "execution_count": 13,
   "metadata": {
    "ExecuteTime": {
     "end_time": "2020-05-03T23:47:57.392267Z",
     "start_time": "2020-05-03T23:47:54.919845Z"
    }
   },
   "outputs": [],
   "source": [
    "def segments_f(row):\n",
    "        if row['conversion_post'] == 1 and row['conversion'] == 0:\n",
    "            return 'persuadable'\n",
    "        elif row['conversion_post'] == 1 and row['conversion'] == 1:\n",
    "            return 'sure_thing'\n",
    "        elif row['conversion_post'] == 0 and row['conversion'] == 1:\n",
    "            return 'sleeping_dog'\n",
    "        elif row['conversion_post'] == 0 and row['conversion'] == 0:\n",
    "            return 'lost_cause'\n",
    "\n",
    "sim_data['segments'] = sim_data.apply(segments_f, axis=1)"
   ]
  },
  {
   "cell_type": "code",
   "execution_count": null,
   "metadata": {},
   "outputs": [],
   "source": [
    "my_pal = {\"sure_thing\": \"#dbd7d7\", \"lost_cause\": \"#dbd7d7\", \"persuadable\":\"#d93b3b\", \"sleeping_dog\":'#dbd7d7'}"
   ]
  },
  {
   "cell_type": "code",
   "execution_count": 16,
   "metadata": {
    "ExecuteTime": {
     "end_time": "2020-05-04T01:58:33.811089Z",
     "start_time": "2020-05-04T01:58:33.643991Z"
    }
   },
   "outputs": [
    {
     "data": {
      "image/png": "[encoded data removed]",
      "text/plain": [
       "<Figure size 432x288 with 1 Axes>"
      ]
     },
     "metadata": {
      "needs_background": "light"
     },
     "output_type": "display_data"
    }
   ],
   "source": [
    "sns.countplot(x=\"segments\", data=sim_data, order=[\"lost_cause\",\"persuadable\",\"sure_thing\",\"sleeping_dog\"], palette='Set3');"
   ]
  },
  {
   "cell_type": "code",
   "execution_count": 39,
   "metadata": {
    "ExecuteTime": {
     "end_time": "2020-04-22T15:06:16.632397Z",
     "start_time": "2020-04-22T15:06:16.611471Z"
    }
   },
   "outputs": [
    {
     "data": {
      "text/plain": [
       "sure_thing      24600\n",
       "lost_cause      17629\n",
       "persuadable      7371\n",
       "sleeping_dog      400\n",
       "Name: segments, dtype: int64"
      ]
     },
     "execution_count": 39,
     "metadata": {},
     "output_type": "execute_result"
    }
   ],
   "source": [
    "sim_data['segments'].value_counts()"
   ]
  },
  {
   "cell_type": "code",
   "execution_count": 40,
   "metadata": {
    "ExecuteTime": {
     "end_time": "2020-04-22T15:06:32.480265Z",
     "start_time": "2020-04-22T15:06:32.452186Z"
    }
   },
   "outputs": [
    {
     "name": "stdout",
     "output_type": "stream",
     "text": [
      "conversions with no marketing:  25000\n",
      "base propensity: 0.50\n",
      "conversions with marketing:  31971\n",
      "persuadables:  7371\n",
      "pursuadable rate: 0.15\n"
     ]
    }
   ],
   "source": [
    "#conversions with no marketing\n",
    "print('conversions with no marketing: ', sim_data['conversion'].sum())\n",
    "print('base propensity: {:.2f}'.format(sim_data['conversion'].sum()/len(sim_data['conversion'])))\n",
    "print('conversions with marketing: ', sim_data['conversion_post'].sum())\n",
    "#Persuadables\n",
    "print('persuadables: ',sim_data[sim_data['segments']=='persuadable']['segments'].count())\n",
    "\n",
    "print('pursuadable rate: {:.2f}'.format(sim_data[sim_data['segments']=='persuadable']['segments'].count()/len(sim_data['conversion'])))"
   ]
  },
  {
   "cell_type": "code",
   "execution_count": 43,
   "metadata": {
    "ExecuteTime": {
     "end_time": "2020-04-22T15:55:24.341275Z",
     "start_time": "2020-04-22T15:55:23.023344Z"
    }
   },
   "outputs": [],
   "source": [
    "filepath = ('/nas/isg_prodops_work/stemr/2020/2020_03 - Capstone Project/')\n",
    "sim_data.to_csv(filepath + 'opossum_sim_basic.csv', index=False)"
   ]
  },
  {
   "cell_type": "code",
   "execution_count": 42,
   "metadata": {
    "ExecuteTime": {
     "end_time": "2020-04-22T15:06:44.287431Z",
     "start_time": "2020-04-22T15:06:44.265195Z"
    }
   },
   "outputs": [],
   "source": [
    "sim_data_sample = sim_data.sample(100)\n",
    "sim_data_sample.to_csv(filepath + 'opossum_sim_simple_samp.csv', index=False)"
   ]
  }
 ],
 "metadata": {
  "kernelspec": {
   "display_name": "Python 3",
   "language": "python",
   "name": "python3"
  },
  "language_info": {
   "codemirror_mode": {
    "name": "ipython",
    "version": 3
   },
   "file_extension": ".py",
   "mimetype": "text/x-python",
   "name": "python",
   "nbconvert_exporter": "python",
   "pygments_lexer": "ipython3",
   "version": "3.6.8"
  },
  "toc": {
   "base_numbering": 1,
   "nav_menu": {},
   "number_sections": true,
   "sideBar": true,
   "skip_h1_title": false,
   "title_cell": "Table of Contents",
   "title_sidebar": "Contents",
   "toc_cell": false,
   "toc_position": {},
   "toc_section_display": true,
   "toc_window_display": false
  }
 },
 "nbformat": 4,
 "nbformat_minor": 2
}
