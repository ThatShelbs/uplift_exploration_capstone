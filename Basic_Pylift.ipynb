{
 "cells": [
  {
   "cell_type": "markdown",
   "metadata": {},
   "source": [
    "# Pylift Used on basic dataset"
   ]
  },
  {
   "cell_type": "code",
   "execution_count": 37,
   "metadata": {
    "ExecuteTime": {
     "end_time": "2020-05-05T01:29:08.877513Z",
     "start_time": "2020-05-05T01:29:08.871544Z"
    }
   },
   "outputs": [],
   "source": [
    "import numpy as np, matplotlib as mpl, matplotlib.pyplot as plt, pandas as pd\n",
    "from pylift import TransformedOutcome\n",
    "from sklift.metrics import auqc, auuc, uplift_at_k\n",
    "from sklift.viz import plot_uplift_preds, plot_uplift_qini_curves\n",
    "import seaborn as sns\n",
    "sns.set(style=\"white\") # white background style for seaborn plots\n",
    "sns.set(style=\"whitegrid\", color_codes=True)"
   ]
  },
  {
   "cell_type": "code",
   "execution_count": 38,
   "metadata": {
    "ExecuteTime": {
     "end_time": "2020-05-05T01:29:09.367136Z",
     "start_time": "2020-05-05T01:29:09.362553Z"
    }
   },
   "outputs": [],
   "source": [
    "%matplotlib inline"
   ]
  },
  {
   "cell_type": "code",
   "execution_count": 39,
   "metadata": {
    "ExecuteTime": {
     "end_time": "2020-05-05T01:29:10.073982Z",
     "start_time": "2020-05-05T01:29:09.915899Z"
    }
   },
   "outputs": [],
   "source": [
    "filepath = '/nas/isg_prodops_work/stemr/2020/2020_03 - Capstone Project/'\n",
    "basic_df = pd.read_csv(filepath + 'opossum_sim_basic.csv')"
   ]
  },
  {
   "cell_type": "code",
   "execution_count": 40,
   "metadata": {
    "ExecuteTime": {
     "end_time": "2020-05-05T01:29:10.560198Z",
     "start_time": "2020-05-05T01:29:10.550566Z"
    }
   },
   "outputs": [],
   "source": [
    "basic_df2 = basic_df.drop(['response_cont','true_lift','response_cont_prior','conversion','segments'],axis=1)"
   ]
  },
  {
   "cell_type": "code",
   "execution_count": 41,
   "metadata": {
    "ExecuteTime": {
     "end_time": "2020-05-05T01:29:11.276102Z",
     "start_time": "2020-05-05T01:29:11.102435Z"
    }
   },
   "outputs": [],
   "source": [
    "up = TransformedOutcome(basic_df2, col_treatment='exposed', col_outcome='conversion_post')"
   ]
  },
  {
   "cell_type": "code",
   "execution_count": 42,
   "metadata": {
    "ExecuteTime": {
     "end_time": "2020-05-05T01:29:16.889519Z",
     "start_time": "2020-05-05T01:29:11.614889Z"
    }
   },
   "outputs": [
    {
     "data": {
      "text/plain": [
       "<matplotlib.axes._subplots.AxesSubplot at 0x7fcc92d3b438>"
      ]
     },
     "execution_count": 42,
     "metadata": {},
     "output_type": "execute_result"
    },
    {
     "data": {
      "image/png": "[encoded data removed]",
      "text/plain": [
       "<Figure size 1080x720 with 1 Axes>"
      ]
     },
     "metadata": {
      "needs_background": "light"
     },
     "output_type": "display_data"
    }
   ],
   "source": [
    "up.NIV()"
   ]
  },
  {
   "cell_type": "code",
   "execution_count": 43,
   "metadata": {
    "ExecuteTime": {
     "end_time": "2020-05-05T01:29:16.904629Z",
     "start_time": "2020-05-05T01:29:16.892504Z"
    }
   },
   "outputs": [],
   "source": [
    "basic_df2 = basic_df.drop(['feature_0'],axis=1)"
   ]
  },
  {
   "cell_type": "code",
   "execution_count": 45,
   "metadata": {
    "ExecuteTime": {
     "end_time": "2020-05-05T01:50:15.111011Z",
     "start_time": "2020-05-05T01:29:35.389271Z"
    }
   },
   "outputs": [
    {
     "name": "stdout",
     "output_type": "stream",
     "text": [
      "Fitting 5 folds for each of 150 candidates, totalling 750 fits\n"
     ]
    },
    {
     "name": "stderr",
     "output_type": "stream",
     "text": [
      "[Parallel(n_jobs=10)]: Using backend LokyBackend with 10 concurrent workers.\n",
      "[Parallel(n_jobs=10)]: Done  12 tasks      | elapsed:   31.7s\n",
      "[Parallel(n_jobs=10)]: Done 108 tasks      | elapsed:  3.3min\n",
      "[Parallel(n_jobs=10)]: Done 268 tasks      | elapsed:  7.0min\n",
      "[Parallel(n_jobs=10)]: Done 492 tasks      | elapsed: 14.0min\n",
      "[Parallel(n_jobs=10)]: Done 750 out of 750 | elapsed: 20.7min finished\n"
     ]
    },
    {
     "data": {
      "text/plain": [
       "RandomizedSearchCV(cv=None, error_score=nan,\n",
       "                   estimator=XGBRegressor(base_score=0.5, booster='gbtree',\n",
       "                                          colsample_bylevel=1,\n",
       "                                          colsample_bynode=1,\n",
       "                                          colsample_bytree=1, gamma=0,\n",
       "                                          importance_type='gain',\n",
       "                                          learning_rate=0.1, max_delta_step=0,\n",
       "                                          max_depth=3, min_child_weight=1,\n",
       "                                          missing=None, n_estimators=100,\n",
       "                                          n_jobs=1, nthread=1,\n",
       "                                          objective='reg:linear',\n",
       "                                          random_state=0, reg_alpha=...\n",
       "                                                      16, 17, 18, 19, 20],\n",
       "                                        'min_child_weight': [1, 2, 3, 4, 5, 6,\n",
       "                                                             7, 8, 9, 10, 11,\n",
       "                                                             12, 13, 14, 15, 16,\n",
       "                                                             17, 18, 19, 20, 21,\n",
       "                                                             22, 23, 24, 25, 26,\n",
       "                                                             27, 28, 29, 30, ...],\n",
       "                                        'n_estimators': range(10, 500),\n",
       "                                        'subsample': <scipy.stats._distn_infrastructure.rv_frozen object at 0x7fcd34ddb240>},\n",
       "                   pre_dispatch='2*n_jobs', random_state=847, refit=False,\n",
       "                   return_train_score=False, scoring=make_scorer(_cgains_score),\n",
       "                   verbose=3)"
      ]
     },
     "execution_count": 45,
     "metadata": {},
     "output_type": "execute_result"
    }
   ],
   "source": [
    "up.randomized_search(n_iter=150, n_jobs=10, random_state=847)"
   ]
  },
  {
   "cell_type": "code",
   "execution_count": 46,
   "metadata": {
    "ExecuteTime": {
     "end_time": "2020-05-05T01:50:15.122435Z",
     "start_time": "2020-05-05T01:50:15.115518Z"
    }
   },
   "outputs": [
    {
     "data": {
      "text/plain": [
       "{'colsample_bytree': 0.6842944153184551,\n",
       " 'gamma': 6.675611148908807,\n",
       " 'max_depth': 3,\n",
       " 'min_child_weight': 471,\n",
       " 'n_estimators': 80,\n",
       " 'subsample': 0.6184677794789324}"
      ]
     },
     "execution_count": 46,
     "metadata": {},
     "output_type": "execute_result"
    }
   ],
   "source": [
    "up.rand_search_.best_params_"
   ]
  },
  {
   "cell_type": "code",
   "execution_count": 47,
   "metadata": {
    "ExecuteTime": {
     "end_time": "2020-05-05T01:50:19.342857Z",
     "start_time": "2020-05-05T01:50:15.125777Z"
    }
   },
   "outputs": [
    {
     "name": "stdout",
     "output_type": "stream",
     "text": [
      "[20:50:15] WARNING: /workspace/src/objective/regression_obj.cu:152: reg:linear is now deprecated in favor of reg:squarederror.\n"
     ]
    }
   ],
   "source": [
    "up.fit(**up.rand_search_.best_params_)"
   ]
  },
  {
   "cell_type": "code",
   "execution_count": 60,
   "metadata": {
    "ExecuteTime": {
     "end_time": "2020-05-05T02:03:19.360387Z",
     "start_time": "2020-05-05T02:03:19.338730Z"
    }
   },
   "outputs": [],
   "source": [
    "test_df = pd.merge(up.x_test,up.y_test, left_index=True, right_index=True)\n",
    "basic_df2 = basic_df2[['exposed','true_lift','segments']]\n",
    "test_df = pd.merge(test_df, basic_df2, left_index=True, right_index=True) \n",
    "\n",
    "test_df = test_df.reset_index(drop=True)\n",
    "test_df = pd.merge(test_df,pd.DataFrame(up.transformed_y_test_pred, columns=['pylift_pred']), left_index=True, right_index=True)"
   ]
  },
  {
   "cell_type": "code",
   "execution_count": 61,
   "metadata": {
    "ExecuteTime": {
     "end_time": "2020-05-05T02:03:19.700544Z",
     "start_time": "2020-05-05T02:03:19.697897Z"
    }
   },
   "outputs": [],
   "source": [
    "pred_df = test_df"
   ]
  },
  {
   "cell_type": "code",
   "execution_count": 62,
   "metadata": {
    "ExecuteTime": {
     "end_time": "2020-05-05T02:03:20.234152Z",
     "start_time": "2020-05-05T02:03:20.205988Z"
    }
   },
   "outputs": [
    {
     "data": {
      "text/html": [
       "<div>\n",
       "<style scoped>\n",
       "    .dataframe tbody tr th:only-of-type {\n",
       "        vertical-align: middle;\n",
       "    }\n",
       "\n",
       "    .dataframe tbody tr th {\n",
       "        vertical-align: top;\n",
       "    }\n",
       "\n",
       "    .dataframe thead th {\n",
       "        text-align: right;\n",
       "    }\n",
       "</style>\n",
       "<table border=\"1\" class=\"dataframe\">\n",
       "  <thead>\n",
       "    <tr style=\"text-align: right;\">\n",
       "      <th></th>\n",
       "      <th>feature_0</th>\n",
       "      <th>feature_1</th>\n",
       "      <th>feature_2</th>\n",
       "      <th>feature_3</th>\n",
       "      <th>feature_4</th>\n",
       "      <th>feature_5</th>\n",
       "      <th>feature_6</th>\n",
       "      <th>feature_7</th>\n",
       "      <th>feature_8</th>\n",
       "      <th>feature_9</th>\n",
       "      <th>conversion_post</th>\n",
       "      <th>exposed</th>\n",
       "      <th>true_lift</th>\n",
       "      <th>segments</th>\n",
       "      <th>pylift_pred</th>\n",
       "    </tr>\n",
       "  </thead>\n",
       "  <tbody>\n",
       "    <tr>\n",
       "      <th>0</th>\n",
       "      <td>0.0</td>\n",
       "      <td>1.0</td>\n",
       "      <td>0.0</td>\n",
       "      <td>0.0</td>\n",
       "      <td>-0.496507</td>\n",
       "      <td>0.442057</td>\n",
       "      <td>-0.149994</td>\n",
       "      <td>2.584903</td>\n",
       "      <td>1.881125</td>\n",
       "      <td>0.074831</td>\n",
       "      <td>1</td>\n",
       "      <td>0</td>\n",
       "      <td>0.000000</td>\n",
       "      <td>sure_thing</td>\n",
       "      <td>0.366071</td>\n",
       "    </tr>\n",
       "    <tr>\n",
       "      <th>1</th>\n",
       "      <td>1.0</td>\n",
       "      <td>1.0</td>\n",
       "      <td>1.0</td>\n",
       "      <td>0.0</td>\n",
       "      <td>-2.457679</td>\n",
       "      <td>-2.683104</td>\n",
       "      <td>-0.219340</td>\n",
       "      <td>-4.499664</td>\n",
       "      <td>-0.243385</td>\n",
       "      <td>-3.463586</td>\n",
       "      <td>0</td>\n",
       "      <td>0</td>\n",
       "      <td>0.000000</td>\n",
       "      <td>lost_cause</td>\n",
       "      <td>0.447721</td>\n",
       "    </tr>\n",
       "    <tr>\n",
       "      <th>2</th>\n",
       "      <td>0.0</td>\n",
       "      <td>1.0</td>\n",
       "      <td>1.0</td>\n",
       "      <td>0.0</td>\n",
       "      <td>0.333731</td>\n",
       "      <td>1.372002</td>\n",
       "      <td>1.095483</td>\n",
       "      <td>-0.783275</td>\n",
       "      <td>-0.431675</td>\n",
       "      <td>2.969524</td>\n",
       "      <td>1</td>\n",
       "      <td>1</td>\n",
       "      <td>0.258551</td>\n",
       "      <td>sure_thing</td>\n",
       "      <td>0.273362</td>\n",
       "    </tr>\n",
       "    <tr>\n",
       "      <th>3</th>\n",
       "      <td>0.0</td>\n",
       "      <td>0.0</td>\n",
       "      <td>1.0</td>\n",
       "      <td>1.0</td>\n",
       "      <td>3.038667</td>\n",
       "      <td>1.698522</td>\n",
       "      <td>1.441571</td>\n",
       "      <td>-4.751561</td>\n",
       "      <td>-2.249797</td>\n",
       "      <td>-0.940625</td>\n",
       "      <td>1</td>\n",
       "      <td>1</td>\n",
       "      <td>1.197732</td>\n",
       "      <td>persuadable</td>\n",
       "      <td>0.246558</td>\n",
       "    </tr>\n",
       "    <tr>\n",
       "      <th>4</th>\n",
       "      <td>1.0</td>\n",
       "      <td>1.0</td>\n",
       "      <td>1.0</td>\n",
       "      <td>0.0</td>\n",
       "      <td>-1.816237</td>\n",
       "      <td>-1.017376</td>\n",
       "      <td>0.440141</td>\n",
       "      <td>-4.236546</td>\n",
       "      <td>-1.260146</td>\n",
       "      <td>-1.201103</td>\n",
       "      <td>0</td>\n",
       "      <td>0</td>\n",
       "      <td>0.000000</td>\n",
       "      <td>lost_cause</td>\n",
       "      <td>0.364457</td>\n",
       "    </tr>\n",
       "    <tr>\n",
       "      <th>...</th>\n",
       "      <td>...</td>\n",
       "      <td>...</td>\n",
       "      <td>...</td>\n",
       "      <td>...</td>\n",
       "      <td>...</td>\n",
       "      <td>...</td>\n",
       "      <td>...</td>\n",
       "      <td>...</td>\n",
       "      <td>...</td>\n",
       "      <td>...</td>\n",
       "      <td>...</td>\n",
       "      <td>...</td>\n",
       "      <td>...</td>\n",
       "      <td>...</td>\n",
       "      <td>...</td>\n",
       "    </tr>\n",
       "    <tr>\n",
       "      <th>9995</th>\n",
       "      <td>0.0</td>\n",
       "      <td>0.0</td>\n",
       "      <td>1.0</td>\n",
       "      <td>1.0</td>\n",
       "      <td>-0.496014</td>\n",
       "      <td>0.622510</td>\n",
       "      <td>2.874237</td>\n",
       "      <td>-1.803647</td>\n",
       "      <td>-1.046148</td>\n",
       "      <td>-1.544987</td>\n",
       "      <td>1</td>\n",
       "      <td>1</td>\n",
       "      <td>1.863746</td>\n",
       "      <td>persuadable</td>\n",
       "      <td>0.395995</td>\n",
       "    </tr>\n",
       "    <tr>\n",
       "      <th>9996</th>\n",
       "      <td>1.0</td>\n",
       "      <td>0.0</td>\n",
       "      <td>1.0</td>\n",
       "      <td>1.0</td>\n",
       "      <td>0.771415</td>\n",
       "      <td>1.250149</td>\n",
       "      <td>-0.293824</td>\n",
       "      <td>-1.762789</td>\n",
       "      <td>-0.630494</td>\n",
       "      <td>0.847630</td>\n",
       "      <td>1</td>\n",
       "      <td>1</td>\n",
       "      <td>1.911093</td>\n",
       "      <td>persuadable</td>\n",
       "      <td>0.296292</td>\n",
       "    </tr>\n",
       "    <tr>\n",
       "      <th>9997</th>\n",
       "      <td>1.0</td>\n",
       "      <td>1.0</td>\n",
       "      <td>0.0</td>\n",
       "      <td>1.0</td>\n",
       "      <td>1.331851</td>\n",
       "      <td>-0.947111</td>\n",
       "      <td>0.815406</td>\n",
       "      <td>-0.028434</td>\n",
       "      <td>-0.330865</td>\n",
       "      <td>-2.190813</td>\n",
       "      <td>1</td>\n",
       "      <td>0</td>\n",
       "      <td>0.000000</td>\n",
       "      <td>sure_thing</td>\n",
       "      <td>0.204727</td>\n",
       "    </tr>\n",
       "    <tr>\n",
       "      <th>9998</th>\n",
       "      <td>0.0</td>\n",
       "      <td>0.0</td>\n",
       "      <td>1.0</td>\n",
       "      <td>0.0</td>\n",
       "      <td>-0.531919</td>\n",
       "      <td>0.699788</td>\n",
       "      <td>-1.900794</td>\n",
       "      <td>3.534915</td>\n",
       "      <td>0.680192</td>\n",
       "      <td>2.941906</td>\n",
       "      <td>1</td>\n",
       "      <td>0</td>\n",
       "      <td>0.000000</td>\n",
       "      <td>sure_thing</td>\n",
       "      <td>0.197600</td>\n",
       "    </tr>\n",
       "    <tr>\n",
       "      <th>9999</th>\n",
       "      <td>0.0</td>\n",
       "      <td>1.0</td>\n",
       "      <td>0.0</td>\n",
       "      <td>1.0</td>\n",
       "      <td>-1.306702</td>\n",
       "      <td>1.442043</td>\n",
       "      <td>-0.720025</td>\n",
       "      <td>0.922095</td>\n",
       "      <td>1.792033</td>\n",
       "      <td>-0.668422</td>\n",
       "      <td>1</td>\n",
       "      <td>0</td>\n",
       "      <td>0.000000</td>\n",
       "      <td>sure_thing</td>\n",
       "      <td>0.153813</td>\n",
       "    </tr>\n",
       "  </tbody>\n",
       "</table>\n",
       "<p>10000 rows × 15 columns</p>\n",
       "</div>"
      ],
      "text/plain": [
       "      feature_0  feature_1  feature_2  feature_3  feature_4  feature_5  \\\n",
       "0           0.0        1.0        0.0        0.0  -0.496507   0.442057   \n",
       "1           1.0        1.0        1.0        0.0  -2.457679  -2.683104   \n",
       "2           0.0        1.0        1.0        0.0   0.333731   1.372002   \n",
       "3           0.0        0.0        1.0        1.0   3.038667   1.698522   \n",
       "4           1.0        1.0        1.0        0.0  -1.816237  -1.017376   \n",
       "...         ...        ...        ...        ...        ...        ...   \n",
       "9995        0.0        0.0        1.0        1.0  -0.496014   0.622510   \n",
       "9996        1.0        0.0        1.0        1.0   0.771415   1.250149   \n",
       "9997        1.0        1.0        0.0        1.0   1.331851  -0.947111   \n",
       "9998        0.0        0.0        1.0        0.0  -0.531919   0.699788   \n",
       "9999        0.0        1.0        0.0        1.0  -1.306702   1.442043   \n",
       "\n",
       "      feature_6  feature_7  feature_8  feature_9  conversion_post  exposed  \\\n",
       "0     -0.149994   2.584903   1.881125   0.074831                1        0   \n",
       "1     -0.219340  -4.499664  -0.243385  -3.463586                0        0   \n",
       "2      1.095483  -0.783275  -0.431675   2.969524                1        1   \n",
       "3      1.441571  -4.751561  -2.249797  -0.940625                1        1   \n",
       "4      0.440141  -4.236546  -1.260146  -1.201103                0        0   \n",
       "...         ...        ...        ...        ...              ...      ...   \n",
       "9995   2.874237  -1.803647  -1.046148  -1.544987                1        1   \n",
       "9996  -0.293824  -1.762789  -0.630494   0.847630                1        1   \n",
       "9997   0.815406  -0.028434  -0.330865  -2.190813                1        0   \n",
       "9998  -1.900794   3.534915   0.680192   2.941906                1        0   \n",
       "9999  -0.720025   0.922095   1.792033  -0.668422                1        0   \n",
       "\n",
       "      true_lift     segments  pylift_pred  \n",
       "0      0.000000   sure_thing     0.366071  \n",
       "1      0.000000   lost_cause     0.447721  \n",
       "2      0.258551   sure_thing     0.273362  \n",
       "3      1.197732  persuadable     0.246558  \n",
       "4      0.000000   lost_cause     0.364457  \n",
       "...         ...          ...          ...  \n",
       "9995   1.863746  persuadable     0.395995  \n",
       "9996   1.911093  persuadable     0.296292  \n",
       "9997   0.000000   sure_thing     0.204727  \n",
       "9998   0.000000   sure_thing     0.197600  \n",
       "9999   0.000000   sure_thing     0.153813  \n",
       "\n",
       "[10000 rows x 15 columns]"
      ]
     },
     "execution_count": 62,
     "metadata": {},
     "output_type": "execute_result"
    }
   ],
   "source": [
    "pred_df"
   ]
  },
  {
   "cell_type": "code",
   "execution_count": 63,
   "metadata": {
    "ExecuteTime": {
     "end_time": "2020-05-05T02:03:34.098305Z",
     "start_time": "2020-05-05T02:03:34.086161Z"
    }
   },
   "outputs": [],
   "source": [
    "pred_df['random_prediction'] = pd.DataFrame(np.random.uniform(-1,1,size=len(pred_df['feature_0'])))\n",
    "pred_df = pred_df.sample(5000,random_state=847).reset_index(drop=True)"
   ]
  },
  {
   "cell_type": "code",
   "execution_count": 1,
   "metadata": {
    "ExecuteTime": {
     "end_time": "2020-05-07T01:20:03.172217Z",
     "start_time": "2020-05-07T01:20:02.384062Z"
    }
   },
   "outputs": [
    {
     "ename": "NameError",
     "evalue": "name 'sns' is not defined",
     "output_type": "error",
     "traceback": [
      "\u001b[0;31m---------------------------------------------------------------------------\u001b[0m",
      "\u001b[0;31mNameError\u001b[0m                                 Traceback (most recent call last)",
      "\u001b[0;32m<ipython-input-1-c9932c3178e3>\u001b[0m in \u001b[0;36m<module>\u001b[0;34m\u001b[0m\n\u001b[1;32m      1\u001b[0m \u001b[0mmy_pal\u001b[0m \u001b[0;34m=\u001b[0m \u001b[0;34m{\u001b[0m\u001b[0;34m\"sure_thing\"\u001b[0m\u001b[0;34m:\u001b[0m \u001b[0;34m\"#4d73ff\"\u001b[0m\u001b[0;34m,\u001b[0m \u001b[0;34m\"lost_cause\"\u001b[0m\u001b[0;34m:\u001b[0m \u001b[0;34m\"#dbd7d7\"\u001b[0m\u001b[0;34m,\u001b[0m \u001b[0;34m\"persuadable\"\u001b[0m\u001b[0;34m:\u001b[0m\u001b[0;34m\"#d93b3b\"\u001b[0m\u001b[0;34m,\u001b[0m \u001b[0;34m\"sleeping_dog\"\u001b[0m\u001b[0;34m:\u001b[0m\u001b[0;34m'#ff9d00'\u001b[0m\u001b[0;34m}\u001b[0m\u001b[0;34m\u001b[0m\u001b[0;34m\u001b[0m\u001b[0m\n\u001b[0;32m----> 2\u001b[0;31m sns.relplot(x=\"true_lift\", y=\"random_prediction\",\n\u001b[0m\u001b[1;32m      3\u001b[0m             hue=\"segments\",palette=my_pal, data=pred_df, height=6, aspect=1.2, alpha=0.80);\n",
      "\u001b[0;31mNameError\u001b[0m: name 'sns' is not defined"
     ]
    }
   ],
   "source": [
    "my_pal = {\"sure_thing\": \"#4d73ff\", \"lost_cause\": \"#dbd7d7\", \"persuadable\":\"#d93b3b\", \"sleeping_dog\":'#ff9d00'}\n",
    "sns.relplot(x=\"true_lift\", y=\"random_prediction\",\n",
    "            hue=\"segments\",palette=my_pal, data=pred_df, height=6, aspect=1.2, alpha=0.80);"
   ]
  },
  {
   "cell_type": "code",
   "execution_count": 65,
   "metadata": {
    "ExecuteTime": {
     "end_time": "2020-05-05T02:03:36.222628Z",
     "start_time": "2020-05-05T02:03:36.200728Z"
    }
   },
   "outputs": [
    {
     "data": {
      "text/plain": [
       "0.29347005625578576"
      ]
     },
     "execution_count": 65,
     "metadata": {},
     "output_type": "execute_result"
    }
   ],
   "source": [
    "uplift_at_k(y_true=pred_df['conversion_post'], uplift=pred_df['pylift_pred'], treatment=pred_df['exposed'], k=0.3)"
   ]
  },
  {
   "cell_type": "code",
   "execution_count": 66,
   "metadata": {
    "ExecuteTime": {
     "end_time": "2020-05-05T02:03:36.389913Z",
     "start_time": "2020-05-05T02:03:36.380779Z"
    }
   },
   "outputs": [
    {
     "data": {
      "text/plain": [
       "3580558.8005930823"
      ]
     },
     "execution_count": 66,
     "metadata": {},
     "output_type": "execute_result"
    }
   ],
   "source": [
    "auuc(y_true=pred_df['conversion_post'], uplift=pred_df['pylift_pred'], treatment=pred_df['exposed'])"
   ]
  },
  {
   "cell_type": "code",
   "execution_count": 67,
   "metadata": {
    "ExecuteTime": {
     "end_time": "2020-05-05T02:03:36.548195Z",
     "start_time": "2020-05-05T02:03:36.539867Z"
    }
   },
   "outputs": [
    {
     "data": {
      "text/plain": [
       "1811586.2582988576"
      ]
     },
     "execution_count": 67,
     "metadata": {},
     "output_type": "execute_result"
    }
   ],
   "source": [
    "auqc(y_true=pred_df['conversion_post'], uplift=pred_df['pylift_pred'], treatment=pred_df['exposed'])"
   ]
  },
  {
   "cell_type": "code",
   "execution_count": 68,
   "metadata": {
    "ExecuteTime": {
     "end_time": "2020-05-05T02:03:37.272849Z",
     "start_time": "2020-05-05T02:03:36.714184Z"
    }
   },
   "outputs": [
    {
     "data": {
      "text/plain": [
       "array([<matplotlib.axes._subplots.AxesSubplot object at 0x7fcd347be470>,\n",
       "       <matplotlib.axes._subplots.AxesSubplot object at 0x7fcd3494d780>],\n",
       "      dtype=object)"
      ]
     },
     "execution_count": 68,
     "metadata": {},
     "output_type": "execute_result"
    },
    {
     "data": {
      "image/png": "[encoded data removed]",
      "text/plain": [
       "<Figure size 1008x504 with 2 Axes>"
      ]
     },
     "metadata": {
      "needs_background": "light"
     },
     "output_type": "display_data"
    }
   ],
   "source": [
    "plot_uplift_qini_curves(y_true=pred_df['conversion_post'], uplift=pred_df['pylift_pred'], treatment=pred_df['exposed'])"
   ]
  },
  {
   "cell_type": "code",
   "execution_count": 69,
   "metadata": {
    "ExecuteTime": {
     "end_time": "2020-05-05T02:03:37.353406Z",
     "start_time": "2020-05-05T02:03:37.331601Z"
    }
   },
   "outputs": [
    {
     "name": "stdout",
     "output_type": "stream",
     "text": [
      "Treatment Total: 250\n",
      "Random ROI: $6,000\n",
      "Model ROI: $6,600\n",
      "Perfect ROI: $24,000\n",
      "Improvement from random: 10.00%\n",
      "Incremental conversions from random: 6\n",
      "Model to perfect ratio: 27.50%\n"
     ]
    }
   ],
   "source": [
    "##Assumptions \n",
    "budget = 1000 #budget per 5,000 customers\n",
    "conversion_profit = 100 #Typical profit generated from a sale\n",
    "cost_per_ad = 4 #cost to treat a customer with an advertisment\n",
    "treatment_total = int(budget/cost_per_ad)\n",
    "\n",
    "random_df = pred_df[pred_df[\"exposed\"] == 1].sample(treatment_total,random_state=847)\n",
    "prediction_df = pred_df[pred_df[\"exposed\"] == 1].sort_values(\"pylift_pred\",ascending=False).head(treatment_total)\n",
    "\n",
    "random_p_count = random_df[random_df['segments']=='persuadable']['conversion_post'].sum()\n",
    "prediction_p_count = prediction_df[prediction_df['segments']=='persuadable']['conversion_post'].sum()\n",
    "if treatment_total <= pred_df[pred_df['segments']=='persuadable']['conversion_post'].sum():\n",
    "    perfect_p_count = treatment_total\n",
    "else:\n",
    "    perfect_p_count = pred_df[pred_df['segments']=='persuadable']['conversion_post'].sum()\n",
    "    \n",
    "    \n",
    "random_roi = (random_p_count*conversion_profit)- budget\n",
    "prediction_roi = (prediction_p_count*conversion_profit)- budget\n",
    "perfect_roi = (perfect_p_count*conversion_profit)- budget\n",
    "        \n",
    "print('Treatment Total: {:0,.0f}'.format(treatment_total))\n",
    "print('Random ROI: ${:0,.0f}'.format(random_roi))\n",
    "print('Model ROI: ${:0,.0f}'.format(prediction_roi))\n",
    "print('Perfect ROI: ${:0,.0f}'.format(perfect_roi))\n",
    "\n",
    "print('Improvement from random: {:.2f}%'.format(((prediction_roi-random_roi)/random_roi)*100))\n",
    "print('Incremental conversions from random: {}'.format(prediction_p_count-random_p_count))\n",
    "print('Model to perfect ratio: {:.2f}%'.format((prediction_roi/perfect_roi)*100))"
   ]
  },
  {
   "cell_type": "code",
   "execution_count": 72,
   "metadata": {
    "ExecuteTime": {
     "end_time": "2020-05-05T02:07:15.112728Z",
     "start_time": "2020-05-05T02:07:14.713127Z"
    }
   },
   "outputs": [
    {
     "data": {
      "image/png": "[encoded data removed]",
      "text/plain": [
       "<Figure size 455.6x360 with 1 Axes>"
      ]
     },
     "metadata": {
      "needs_background": "light"
     },
     "output_type": "display_data"
    }
   ],
   "source": [
    "Pyli"
   ]
  }
 ],
 "metadata": {
  "kernelspec": {
   "display_name": "Python 3",
   "language": "python",
   "name": "python3"
  },
  "language_info": {
   "codemirror_mode": {
    "name": "ipython",
    "version": 3
   },
   "file_extension": ".py",
   "mimetype": "text/x-python",
   "name": "python",
   "nbconvert_exporter": "python",
   "pygments_lexer": "ipython3",
   "version": "3.6.8"
  },
  "toc": {
   "base_numbering": 1,
   "nav_menu": {},
   "number_sections": true,
   "sideBar": true,
   "skip_h1_title": false,
   "title_cell": "Table of Contents",
   "title_sidebar": "Contents",
   "toc_cell": false,
   "toc_position": {},
   "toc_section_display": true,
   "toc_window_display": false
  }
 },
 "nbformat": 4,
 "nbformat_minor": 2
}
