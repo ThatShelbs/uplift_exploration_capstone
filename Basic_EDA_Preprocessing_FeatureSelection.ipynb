{
 "cells": [
  {
   "cell_type": "markdown",
   "metadata": {},
   "source": [
    "# Exploratory Data Analysis, Preprocessing, and Feature Selection on Basic Dataset\n",
    "\n",
    "The goal of this notebook is to visualize the dataset then prepare the dataset for machine learning.\n",
    "\n",
    "**What we know about the basic synthetic dataset already**\n",
    " - 50K rows\n",
    " - 10 features | 10% noise, 90% useful | 6 continuous, 4 binary\n",
    " - subjects were randomly assigned to treatment and control (not observational study)\n",
    " - 50% treatment rate\n",
    " - 50% response rate\n",
    " - linear relationship between x and y with no interactions\n",
    " \n",
    "**Marketing Details**\n",
    " - conversions with no marketing:  25000\n",
    " - base propensity: 50%\n",
    " - conversions with marketing:  31971\n",
    " - persuadables:  6971\n",
    " - pursuadable rate: 14%"
   ]
  },
  {
   "cell_type": "markdown",
   "metadata": {},
   "source": [
    "## Package and data imports"
   ]
  },
  {
   "cell_type": "code",
   "execution_count": 63,
   "metadata": {
    "ExecuteTime": {
     "end_time": "2020-04-22T15:55:35.503807Z",
     "start_time": "2020-04-22T15:55:35.490200Z"
    }
   },
   "outputs": [],
   "source": [
    "import pandas as pd\n",
    "import numpy as np\n",
    "import matplotlib.pyplot as plt \n",
    "import seaborn as sns\n",
    "from itertools import compress\n",
    "sns.set(style=\"white\") # white background style for seaborn plots\n",
    "sns.set(style=\"whitegrid\", color_codes=True)\n",
    "from sklearn.feature_selection import RFE\n",
    "from sklearn.model_selection import train_test_split\n",
    "from sklearn.ensemble import RandomForestClassifier\n",
    "from sklearn.linear_model import LogisticRegression\n",
    "from sklearn.model_selection import cross_val_score\n",
    "\n",
    "pd.set_option('display.max_columns', 500)\n",
    "pd.set_option('display.width', 1000)\n",
    "\n",
    "%matplotlib inline \n",
    "sns.set()"
   ]
  },
  {
   "cell_type": "code",
   "execution_count": 64,
   "metadata": {
    "ExecuteTime": {
     "end_time": "2020-04-22T15:55:35.810692Z",
     "start_time": "2020-04-22T15:55:35.622540Z"
    }
   },
   "outputs": [],
   "source": [
    "filepath = '/nas/isg_prodops_work/stemr/2020/2020_03 - Capstone Project/'\n",
    "basic_df = pd.read_csv(filepath + 'opossum_sim_basic.csv')"
   ]
  },
  {
   "cell_type": "code",
   "execution_count": 65,
   "metadata": {
    "ExecuteTime": {
     "end_time": "2020-04-22T15:55:35.845591Z",
     "start_time": "2020-04-22T15:55:35.813990Z"
    }
   },
   "outputs": [
    {
     "name": "stdout",
     "output_type": "stream",
     "text": [
      "(50000, 17)\n"
     ]
    },
    {
     "data": {
      "text/html": [
       "<div>\n",
       "<style scoped>\n",
       "    .dataframe tbody tr th:only-of-type {\n",
       "        vertical-align: middle;\n",
       "    }\n",
       "\n",
       "    .dataframe tbody tr th {\n",
       "        vertical-align: top;\n",
       "    }\n",
       "\n",
       "    .dataframe thead th {\n",
       "        text-align: right;\n",
       "    }\n",
       "</style>\n",
       "<table border=\"1\" class=\"dataframe\">\n",
       "  <thead>\n",
       "    <tr style=\"text-align: right;\">\n",
       "      <th></th>\n",
       "      <th>feature_0</th>\n",
       "      <th>feature_1</th>\n",
       "      <th>feature_2</th>\n",
       "      <th>feature_3</th>\n",
       "      <th>feature_4</th>\n",
       "      <th>feature_5</th>\n",
       "      <th>feature_6</th>\n",
       "      <th>feature_7</th>\n",
       "      <th>feature_8</th>\n",
       "      <th>feature_9</th>\n",
       "      <th>response_cont</th>\n",
       "      <th>exposed</th>\n",
       "      <th>true_lift</th>\n",
       "      <th>response_cont_prior</th>\n",
       "      <th>conversion</th>\n",
       "      <th>conversion_post</th>\n",
       "      <th>segments</th>\n",
       "    </tr>\n",
       "  </thead>\n",
       "  <tbody>\n",
       "    <tr>\n",
       "      <th>38069</th>\n",
       "      <td>1.0</td>\n",
       "      <td>1.0</td>\n",
       "      <td>0.0</td>\n",
       "      <td>1.0</td>\n",
       "      <td>-1.895217</td>\n",
       "      <td>-2.088761</td>\n",
       "      <td>-2.367600</td>\n",
       "      <td>1.394896</td>\n",
       "      <td>0.358612</td>\n",
       "      <td>-0.345436</td>\n",
       "      <td>1.905733</td>\n",
       "      <td>1</td>\n",
       "      <td>1.602136</td>\n",
       "      <td>0.303598</td>\n",
       "      <td>0</td>\n",
       "      <td>1</td>\n",
       "      <td>persuadable</td>\n",
       "    </tr>\n",
       "    <tr>\n",
       "      <th>24119</th>\n",
       "      <td>0.0</td>\n",
       "      <td>1.0</td>\n",
       "      <td>1.0</td>\n",
       "      <td>0.0</td>\n",
       "      <td>1.017006</td>\n",
       "      <td>-2.591423</td>\n",
       "      <td>1.849437</td>\n",
       "      <td>0.760923</td>\n",
       "      <td>-2.803607</td>\n",
       "      <td>-3.226688</td>\n",
       "      <td>0.759997</td>\n",
       "      <td>1</td>\n",
       "      <td>0.658723</td>\n",
       "      <td>0.101275</td>\n",
       "      <td>0</td>\n",
       "      <td>1</td>\n",
       "      <td>persuadable</td>\n",
       "    </tr>\n",
       "    <tr>\n",
       "      <th>41781</th>\n",
       "      <td>1.0</td>\n",
       "      <td>1.0</td>\n",
       "      <td>0.0</td>\n",
       "      <td>1.0</td>\n",
       "      <td>0.371820</td>\n",
       "      <td>-1.551279</td>\n",
       "      <td>-3.884355</td>\n",
       "      <td>4.632268</td>\n",
       "      <td>-1.859203</td>\n",
       "      <td>1.338839</td>\n",
       "      <td>0.841903</td>\n",
       "      <td>1</td>\n",
       "      <td>0.457207</td>\n",
       "      <td>0.384696</td>\n",
       "      <td>0</td>\n",
       "      <td>1</td>\n",
       "      <td>persuadable</td>\n",
       "    </tr>\n",
       "    <tr>\n",
       "      <th>40274</th>\n",
       "      <td>1.0</td>\n",
       "      <td>1.0</td>\n",
       "      <td>0.0</td>\n",
       "      <td>1.0</td>\n",
       "      <td>0.653063</td>\n",
       "      <td>2.359577</td>\n",
       "      <td>2.404884</td>\n",
       "      <td>-0.156154</td>\n",
       "      <td>-1.734057</td>\n",
       "      <td>-1.557779</td>\n",
       "      <td>1.487939</td>\n",
       "      <td>0</td>\n",
       "      <td>0.000000</td>\n",
       "      <td>1.487939</td>\n",
       "      <td>1</td>\n",
       "      <td>1</td>\n",
       "      <td>sure_thing</td>\n",
       "    </tr>\n",
       "    <tr>\n",
       "      <th>4024</th>\n",
       "      <td>1.0</td>\n",
       "      <td>1.0</td>\n",
       "      <td>0.0</td>\n",
       "      <td>0.0</td>\n",
       "      <td>0.537669</td>\n",
       "      <td>-4.186744</td>\n",
       "      <td>-1.005320</td>\n",
       "      <td>2.337051</td>\n",
       "      <td>1.795596</td>\n",
       "      <td>1.230022</td>\n",
       "      <td>0.668882</td>\n",
       "      <td>0</td>\n",
       "      <td>-0.000000</td>\n",
       "      <td>0.668882</td>\n",
       "      <td>1</td>\n",
       "      <td>1</td>\n",
       "      <td>sure_thing</td>\n",
       "    </tr>\n",
       "    <tr>\n",
       "      <th>31529</th>\n",
       "      <td>0.0</td>\n",
       "      <td>0.0</td>\n",
       "      <td>1.0</td>\n",
       "      <td>0.0</td>\n",
       "      <td>2.834349</td>\n",
       "      <td>-0.565575</td>\n",
       "      <td>2.487963</td>\n",
       "      <td>-0.733423</td>\n",
       "      <td>-1.626648</td>\n",
       "      <td>0.229605</td>\n",
       "      <td>-0.563948</td>\n",
       "      <td>0</td>\n",
       "      <td>0.000000</td>\n",
       "      <td>-0.563948</td>\n",
       "      <td>0</td>\n",
       "      <td>0</td>\n",
       "      <td>lost_cause</td>\n",
       "    </tr>\n",
       "    <tr>\n",
       "      <th>18754</th>\n",
       "      <td>0.0</td>\n",
       "      <td>1.0</td>\n",
       "      <td>1.0</td>\n",
       "      <td>0.0</td>\n",
       "      <td>2.302334</td>\n",
       "      <td>-0.277285</td>\n",
       "      <td>-0.668504</td>\n",
       "      <td>-0.094039</td>\n",
       "      <td>-2.674535</td>\n",
       "      <td>3.824911</td>\n",
       "      <td>0.111206</td>\n",
       "      <td>1</td>\n",
       "      <td>0.091339</td>\n",
       "      <td>0.019868</td>\n",
       "      <td>0</td>\n",
       "      <td>0</td>\n",
       "      <td>lost_cause</td>\n",
       "    </tr>\n",
       "    <tr>\n",
       "      <th>22303</th>\n",
       "      <td>0.0</td>\n",
       "      <td>0.0</td>\n",
       "      <td>0.0</td>\n",
       "      <td>0.0</td>\n",
       "      <td>-0.861379</td>\n",
       "      <td>0.723387</td>\n",
       "      <td>0.769317</td>\n",
       "      <td>0.083000</td>\n",
       "      <td>-1.179591</td>\n",
       "      <td>-3.688727</td>\n",
       "      <td>0.982979</td>\n",
       "      <td>1</td>\n",
       "      <td>0.873756</td>\n",
       "      <td>0.109223</td>\n",
       "      <td>0</td>\n",
       "      <td>1</td>\n",
       "      <td>persuadable</td>\n",
       "    </tr>\n",
       "    <tr>\n",
       "      <th>18260</th>\n",
       "      <td>0.0</td>\n",
       "      <td>0.0</td>\n",
       "      <td>0.0</td>\n",
       "      <td>1.0</td>\n",
       "      <td>0.270012</td>\n",
       "      <td>-1.075549</td>\n",
       "      <td>0.175902</td>\n",
       "      <td>2.334780</td>\n",
       "      <td>-0.137873</td>\n",
       "      <td>-1.118112</td>\n",
       "      <td>-0.515981</td>\n",
       "      <td>1</td>\n",
       "      <td>0.143736</td>\n",
       "      <td>-0.659718</td>\n",
       "      <td>0</td>\n",
       "      <td>0</td>\n",
       "      <td>lost_cause</td>\n",
       "    </tr>\n",
       "    <tr>\n",
       "      <th>36602</th>\n",
       "      <td>0.0</td>\n",
       "      <td>1.0</td>\n",
       "      <td>0.0</td>\n",
       "      <td>1.0</td>\n",
       "      <td>1.844594</td>\n",
       "      <td>1.047435</td>\n",
       "      <td>-2.000652</td>\n",
       "      <td>4.092443</td>\n",
       "      <td>-0.107469</td>\n",
       "      <td>1.633335</td>\n",
       "      <td>2.956350</td>\n",
       "      <td>1</td>\n",
       "      <td>2.712011</td>\n",
       "      <td>0.244339</td>\n",
       "      <td>0</td>\n",
       "      <td>1</td>\n",
       "      <td>persuadable</td>\n",
       "    </tr>\n",
       "  </tbody>\n",
       "</table>\n",
       "</div>"
      ],
      "text/plain": [
       "       feature_0  feature_1  feature_2  feature_3  feature_4  feature_5  feature_6  feature_7  feature_8  feature_9  response_cont  exposed  true_lift  response_cont_prior  conversion  conversion_post     segments\n",
       "38069        1.0        1.0        0.0        1.0  -1.895217  -2.088761  -2.367600   1.394896   0.358612  -0.345436       1.905733        1   1.602136             0.303598           0                1  persuadable\n",
       "24119        0.0        1.0        1.0        0.0   1.017006  -2.591423   1.849437   0.760923  -2.803607  -3.226688       0.759997        1   0.658723             0.101275           0                1  persuadable\n",
       "41781        1.0        1.0        0.0        1.0   0.371820  -1.551279  -3.884355   4.632268  -1.859203   1.338839       0.841903        1   0.457207             0.384696           0                1  persuadable\n",
       "40274        1.0        1.0        0.0        1.0   0.653063   2.359577   2.404884  -0.156154  -1.734057  -1.557779       1.487939        0   0.000000             1.487939           1                1   sure_thing\n",
       "4024         1.0        1.0        0.0        0.0   0.537669  -4.186744  -1.005320   2.337051   1.795596   1.230022       0.668882        0  -0.000000             0.668882           1                1   sure_thing\n",
       "31529        0.0        0.0        1.0        0.0   2.834349  -0.565575   2.487963  -0.733423  -1.626648   0.229605      -0.563948        0   0.000000            -0.563948           0                0   lost_cause\n",
       "18754        0.0        1.0        1.0        0.0   2.302334  -0.277285  -0.668504  -0.094039  -2.674535   3.824911       0.111206        1   0.091339             0.019868           0                0   lost_cause\n",
       "22303        0.0        0.0        0.0        0.0  -0.861379   0.723387   0.769317   0.083000  -1.179591  -3.688727       0.982979        1   0.873756             0.109223           0                1  persuadable\n",
       "18260        0.0        0.0        0.0        1.0   0.270012  -1.075549   0.175902   2.334780  -0.137873  -1.118112      -0.515981        1   0.143736            -0.659718           0                0   lost_cause\n",
       "36602        0.0        1.0        0.0        1.0   1.844594   1.047435  -2.000652   4.092443  -0.107469   1.633335       2.956350        1   2.712011             0.244339           0                1  persuadable"
      ]
     },
     "execution_count": 65,
     "metadata": {},
     "output_type": "execute_result"
    }
   ],
   "source": [
    "print(basic_df.shape)\n",
    "basic_df.sample(10)"
   ]
  },
  {
   "cell_type": "code",
   "execution_count": 66,
   "metadata": {
    "ExecuteTime": {
     "end_time": "2020-04-22T15:55:35.981285Z",
     "start_time": "2020-04-22T15:55:35.962907Z"
    }
   },
   "outputs": [
    {
     "name": "stdout",
     "output_type": "stream",
     "text": [
      "<class 'pandas.core.frame.DataFrame'>\n",
      "RangeIndex: 50000 entries, 0 to 49999\n",
      "Data columns (total 17 columns):\n",
      "feature_0              50000 non-null float64\n",
      "feature_1              50000 non-null float64\n",
      "feature_2              50000 non-null float64\n",
      "feature_3              50000 non-null float64\n",
      "feature_4              50000 non-null float64\n",
      "feature_5              50000 non-null float64\n",
      "feature_6              50000 non-null float64\n",
      "feature_7              50000 non-null float64\n",
      "feature_8              50000 non-null float64\n",
      "feature_9              50000 non-null float64\n",
      "response_cont          50000 non-null float64\n",
      "exposed                50000 non-null int64\n",
      "true_lift              50000 non-null float64\n",
      "response_cont_prior    50000 non-null float64\n",
      "conversion             50000 non-null int64\n",
      "conversion_post        50000 non-null int64\n",
      "segments               50000 non-null object\n",
      "dtypes: float64(13), int64(3), object(1)\n",
      "memory usage: 6.5+ MB\n"
     ]
    }
   ],
   "source": [
    "basic_df.info()"
   ]
  },
  {
   "cell_type": "code",
   "execution_count": 67,
   "metadata": {
    "ExecuteTime": {
     "end_time": "2020-04-22T15:55:36.222814Z",
     "start_time": "2020-04-22T15:55:36.116540Z"
    }
   },
   "outputs": [
    {
     "data": {
      "text/html": [
       "<div>\n",
       "<style scoped>\n",
       "    .dataframe tbody tr th:only-of-type {\n",
       "        vertical-align: middle;\n",
       "    }\n",
       "\n",
       "    .dataframe tbody tr th {\n",
       "        vertical-align: top;\n",
       "    }\n",
       "\n",
       "    .dataframe thead th {\n",
       "        text-align: right;\n",
       "    }\n",
       "</style>\n",
       "<table border=\"1\" class=\"dataframe\">\n",
       "  <thead>\n",
       "    <tr style=\"text-align: right;\">\n",
       "      <th></th>\n",
       "      <th>feature_0</th>\n",
       "      <th>feature_1</th>\n",
       "      <th>feature_2</th>\n",
       "      <th>feature_3</th>\n",
       "      <th>feature_4</th>\n",
       "      <th>feature_5</th>\n",
       "      <th>feature_6</th>\n",
       "      <th>feature_7</th>\n",
       "      <th>feature_8</th>\n",
       "      <th>feature_9</th>\n",
       "      <th>response_cont</th>\n",
       "      <th>exposed</th>\n",
       "      <th>true_lift</th>\n",
       "      <th>response_cont_prior</th>\n",
       "      <th>conversion</th>\n",
       "      <th>conversion_post</th>\n",
       "    </tr>\n",
       "  </thead>\n",
       "  <tbody>\n",
       "    <tr>\n",
       "      <th>count</th>\n",
       "      <td>50000.000000</td>\n",
       "      <td>50000.000000</td>\n",
       "      <td>50000.000000</td>\n",
       "      <td>50000.000000</td>\n",
       "      <td>50000.000000</td>\n",
       "      <td>50000.000000</td>\n",
       "      <td>50000.000000</td>\n",
       "      <td>50000.000000</td>\n",
       "      <td>50000.000000</td>\n",
       "      <td>50000.000000</td>\n",
       "      <td>50000.000000</td>\n",
       "      <td>50000.000000</td>\n",
       "      <td>50000.000000</td>\n",
       "      <td>50000.000000</td>\n",
       "      <td>50000.000000</td>\n",
       "      <td>50000.000000</td>\n",
       "    </tr>\n",
       "    <tr>\n",
       "      <th>mean</th>\n",
       "      <td>0.483060</td>\n",
       "      <td>0.494500</td>\n",
       "      <td>0.513320</td>\n",
       "      <td>0.473600</td>\n",
       "      <td>0.014925</td>\n",
       "      <td>0.004279</td>\n",
       "      <td>0.000867</td>\n",
       "      <td>-0.009002</td>\n",
       "      <td>-0.002409</td>\n",
       "      <td>-0.000696</td>\n",
       "      <td>1.070175</td>\n",
       "      <td>0.500500</td>\n",
       "      <td>0.583820</td>\n",
       "      <td>0.486355</td>\n",
       "      <td>0.500000</td>\n",
       "      <td>0.639420</td>\n",
       "    </tr>\n",
       "    <tr>\n",
       "      <th>std</th>\n",
       "      <td>0.499718</td>\n",
       "      <td>0.499975</td>\n",
       "      <td>0.499828</td>\n",
       "      <td>0.499308</td>\n",
       "      <td>1.881980</td>\n",
       "      <td>1.755765</td>\n",
       "      <td>1.903425</td>\n",
       "      <td>2.087731</td>\n",
       "      <td>1.903815</td>\n",
       "      <td>1.973883</td>\n",
       "      <td>1.524358</td>\n",
       "      <td>0.500005</td>\n",
       "      <td>0.907840</td>\n",
       "      <td>1.221999</td>\n",
       "      <td>0.500005</td>\n",
       "      <td>0.480174</td>\n",
       "    </tr>\n",
       "    <tr>\n",
       "      <th>min</th>\n",
       "      <td>0.000000</td>\n",
       "      <td>0.000000</td>\n",
       "      <td>0.000000</td>\n",
       "      <td>0.000000</td>\n",
       "      <td>-9.315095</td>\n",
       "      <td>-8.774670</td>\n",
       "      <td>-7.365795</td>\n",
       "      <td>-8.156366</td>\n",
       "      <td>-7.718844</td>\n",
       "      <td>-7.581254</td>\n",
       "      <td>-5.105610</td>\n",
       "      <td>0.000000</td>\n",
       "      <td>-2.000000</td>\n",
       "      <td>-4.644780</td>\n",
       "      <td>0.000000</td>\n",
       "      <td>0.000000</td>\n",
       "    </tr>\n",
       "    <tr>\n",
       "      <th>25%</th>\n",
       "      <td>0.000000</td>\n",
       "      <td>0.000000</td>\n",
       "      <td>0.000000</td>\n",
       "      <td>0.000000</td>\n",
       "      <td>-1.247759</td>\n",
       "      <td>-1.177529</td>\n",
       "      <td>-1.275269</td>\n",
       "      <td>-1.409261</td>\n",
       "      <td>-1.282572</td>\n",
       "      <td>-1.350299</td>\n",
       "      <td>0.027706</td>\n",
       "      <td>0.000000</td>\n",
       "      <td>0.000000</td>\n",
       "      <td>-0.337477</td>\n",
       "      <td>0.000000</td>\n",
       "      <td>0.000000</td>\n",
       "    </tr>\n",
       "    <tr>\n",
       "      <th>50%</th>\n",
       "      <td>0.000000</td>\n",
       "      <td>0.000000</td>\n",
       "      <td>1.000000</td>\n",
       "      <td>0.000000</td>\n",
       "      <td>0.019994</td>\n",
       "      <td>0.003702</td>\n",
       "      <td>0.006521</td>\n",
       "      <td>-0.015920</td>\n",
       "      <td>0.001341</td>\n",
       "      <td>0.001307</td>\n",
       "      <td>1.013614</td>\n",
       "      <td>1.000000</td>\n",
       "      <td>0.000000</td>\n",
       "      <td>0.482968</td>\n",
       "      <td>0.500000</td>\n",
       "      <td>1.000000</td>\n",
       "    </tr>\n",
       "    <tr>\n",
       "      <th>75%</th>\n",
       "      <td>1.000000</td>\n",
       "      <td>1.000000</td>\n",
       "      <td>1.000000</td>\n",
       "      <td>1.000000</td>\n",
       "      <td>1.275467</td>\n",
       "      <td>1.181821</td>\n",
       "      <td>1.279809</td>\n",
       "      <td>1.391831</td>\n",
       "      <td>1.288761</td>\n",
       "      <td>1.342840</td>\n",
       "      <td>2.079674</td>\n",
       "      <td>1.000000</td>\n",
       "      <td>1.309205</td>\n",
       "      <td>1.312582</td>\n",
       "      <td>1.000000</td>\n",
       "      <td>1.000000</td>\n",
       "    </tr>\n",
       "    <tr>\n",
       "      <th>max</th>\n",
       "      <td>1.000000</td>\n",
       "      <td>1.000000</td>\n",
       "      <td>1.000000</td>\n",
       "      <td>1.000000</td>\n",
       "      <td>8.082712</td>\n",
       "      <td>7.245996</td>\n",
       "      <td>7.939660</td>\n",
       "      <td>8.081616</td>\n",
       "      <td>7.726979</td>\n",
       "      <td>7.553827</td>\n",
       "      <td>7.128698</td>\n",
       "      <td>1.000000</td>\n",
       "      <td>3.200848</td>\n",
       "      <td>5.294043</td>\n",
       "      <td>1.000000</td>\n",
       "      <td>1.000000</td>\n",
       "    </tr>\n",
       "  </tbody>\n",
       "</table>\n",
       "</div>"
      ],
      "text/plain": [
       "          feature_0     feature_1     feature_2     feature_3     feature_4     feature_5     feature_6     feature_7     feature_8     feature_9  response_cont       exposed     true_lift  response_cont_prior    conversion  conversion_post\n",
       "count  50000.000000  50000.000000  50000.000000  50000.000000  50000.000000  50000.000000  50000.000000  50000.000000  50000.000000  50000.000000   50000.000000  50000.000000  50000.000000         50000.000000  50000.000000     50000.000000\n",
       "mean       0.483060      0.494500      0.513320      0.473600      0.014925      0.004279      0.000867     -0.009002     -0.002409     -0.000696       1.070175      0.500500      0.583820             0.486355      0.500000         0.639420\n",
       "std        0.499718      0.499975      0.499828      0.499308      1.881980      1.755765      1.903425      2.087731      1.903815      1.973883       1.524358      0.500005      0.907840             1.221999      0.500005         0.480174\n",
       "min        0.000000      0.000000      0.000000      0.000000     -9.315095     -8.774670     -7.365795     -8.156366     -7.718844     -7.581254      -5.105610      0.000000     -2.000000            -4.644780      0.000000         0.000000\n",
       "25%        0.000000      0.000000      0.000000      0.000000     -1.247759     -1.177529     -1.275269     -1.409261     -1.282572     -1.350299       0.027706      0.000000      0.000000            -0.337477      0.000000         0.000000\n",
       "50%        0.000000      0.000000      1.000000      0.000000      0.019994      0.003702      0.006521     -0.015920      0.001341      0.001307       1.013614      1.000000      0.000000             0.482968      0.500000         1.000000\n",
       "75%        1.000000      1.000000      1.000000      1.000000      1.275467      1.181821      1.279809      1.391831      1.288761      1.342840       2.079674      1.000000      1.309205             1.312582      1.000000         1.000000\n",
       "max        1.000000      1.000000      1.000000      1.000000      8.082712      7.245996      7.939660      8.081616      7.726979      7.553827       7.128698      1.000000      3.200848             5.294043      1.000000         1.000000"
      ]
     },
     "execution_count": 67,
     "metadata": {},
     "output_type": "execute_result"
    }
   ],
   "source": [
    "basic_df.describe()"
   ]
  },
  {
   "cell_type": "markdown",
   "metadata": {},
   "source": [
    "## EDA"
   ]
  },
  {
   "cell_type": "markdown",
   "metadata": {},
   "source": [
    "For continuous fields\n",
    " - check distributions\n",
    " - checking for multicollinearity \n",
    " - checking relationship of each x with y\n",
    "\n",
    "For binary fields\n",
    " - print bar charts with target variable "
   ]
  },
  {
   "cell_type": "code",
   "execution_count": 68,
   "metadata": {
    "ExecuteTime": {
     "end_time": "2020-04-22T15:55:36.635671Z",
     "start_time": "2020-04-22T15:55:36.616946Z"
    }
   },
   "outputs": [
    {
     "data": {
      "text/html": [
       "<div>\n",
       "<style scoped>\n",
       "    .dataframe tbody tr th:only-of-type {\n",
       "        vertical-align: middle;\n",
       "    }\n",
       "\n",
       "    .dataframe tbody tr th {\n",
       "        vertical-align: top;\n",
       "    }\n",
       "\n",
       "    .dataframe thead th {\n",
       "        text-align: right;\n",
       "    }\n",
       "</style>\n",
       "<table border=\"1\" class=\"dataframe\">\n",
       "  <thead>\n",
       "    <tr style=\"text-align: right;\">\n",
       "      <th></th>\n",
       "      <th>feature_0</th>\n",
       "      <th>feature_1</th>\n",
       "      <th>feature_2</th>\n",
       "      <th>feature_3</th>\n",
       "      <th>conversion</th>\n",
       "    </tr>\n",
       "  </thead>\n",
       "  <tbody>\n",
       "    <tr>\n",
       "      <th>0</th>\n",
       "      <td>0.0</td>\n",
       "      <td>1.0</td>\n",
       "      <td>1.0</td>\n",
       "      <td>0.0</td>\n",
       "      <td>0</td>\n",
       "    </tr>\n",
       "    <tr>\n",
       "      <th>1</th>\n",
       "      <td>0.0</td>\n",
       "      <td>0.0</td>\n",
       "      <td>0.0</td>\n",
       "      <td>1.0</td>\n",
       "      <td>1</td>\n",
       "    </tr>\n",
       "    <tr>\n",
       "      <th>2</th>\n",
       "      <td>0.0</td>\n",
       "      <td>0.0</td>\n",
       "      <td>0.0</td>\n",
       "      <td>0.0</td>\n",
       "      <td>1</td>\n",
       "    </tr>\n",
       "    <tr>\n",
       "      <th>3</th>\n",
       "      <td>0.0</td>\n",
       "      <td>1.0</td>\n",
       "      <td>0.0</td>\n",
       "      <td>0.0</td>\n",
       "      <td>1</td>\n",
       "    </tr>\n",
       "    <tr>\n",
       "      <th>4</th>\n",
       "      <td>1.0</td>\n",
       "      <td>1.0</td>\n",
       "      <td>0.0</td>\n",
       "      <td>0.0</td>\n",
       "      <td>0</td>\n",
       "    </tr>\n",
       "    <tr>\n",
       "      <th>...</th>\n",
       "      <td>...</td>\n",
       "      <td>...</td>\n",
       "      <td>...</td>\n",
       "      <td>...</td>\n",
       "      <td>...</td>\n",
       "    </tr>\n",
       "    <tr>\n",
       "      <th>49995</th>\n",
       "      <td>1.0</td>\n",
       "      <td>0.0</td>\n",
       "      <td>0.0</td>\n",
       "      <td>0.0</td>\n",
       "      <td>0</td>\n",
       "    </tr>\n",
       "    <tr>\n",
       "      <th>49996</th>\n",
       "      <td>1.0</td>\n",
       "      <td>1.0</td>\n",
       "      <td>1.0</td>\n",
       "      <td>0.0</td>\n",
       "      <td>0</td>\n",
       "    </tr>\n",
       "    <tr>\n",
       "      <th>49997</th>\n",
       "      <td>1.0</td>\n",
       "      <td>1.0</td>\n",
       "      <td>0.0</td>\n",
       "      <td>0.0</td>\n",
       "      <td>1</td>\n",
       "    </tr>\n",
       "    <tr>\n",
       "      <th>49998</th>\n",
       "      <td>0.0</td>\n",
       "      <td>0.0</td>\n",
       "      <td>0.0</td>\n",
       "      <td>0.0</td>\n",
       "      <td>0</td>\n",
       "    </tr>\n",
       "    <tr>\n",
       "      <th>49999</th>\n",
       "      <td>1.0</td>\n",
       "      <td>0.0</td>\n",
       "      <td>1.0</td>\n",
       "      <td>1.0</td>\n",
       "      <td>1</td>\n",
       "    </tr>\n",
       "  </tbody>\n",
       "</table>\n",
       "<p>50000 rows × 5 columns</p>\n",
       "</div>"
      ],
      "text/plain": [
       "       feature_0  feature_1  feature_2  feature_3  conversion\n",
       "0            0.0        1.0        1.0        0.0           0\n",
       "1            0.0        0.0        0.0        1.0           1\n",
       "2            0.0        0.0        0.0        0.0           1\n",
       "3            0.0        1.0        0.0        0.0           1\n",
       "4            1.0        1.0        0.0        0.0           0\n",
       "...          ...        ...        ...        ...         ...\n",
       "49995        1.0        0.0        0.0        0.0           0\n",
       "49996        1.0        1.0        1.0        0.0           0\n",
       "49997        1.0        1.0        0.0        0.0           1\n",
       "49998        0.0        0.0        0.0        0.0           0\n",
       "49999        1.0        0.0        1.0        1.0           1\n",
       "\n",
       "[50000 rows x 5 columns]"
      ]
     },
     "execution_count": 68,
     "metadata": {},
     "output_type": "execute_result"
    }
   ],
   "source": [
    "num_df = basic_df.iloc[:,4:9]\n",
    "num_df['conversion'] = basic_df['conversion']\n",
    "cat_df = basic_df.iloc[:,0:4]\n",
    "cat_df['conversion'] = basic_df['conversion']\n",
    "cat_df"
   ]
  },
  {
   "cell_type": "code",
   "execution_count": 69,
   "metadata": {
    "ExecuteTime": {
     "end_time": "2020-04-22T15:55:36.956170Z",
     "start_time": "2020-04-22T15:55:36.788489Z"
    }
   },
   "outputs": [
    {
     "data": {
      "image/png": "[encoded data removed]",
      "text/plain": [
       "<Figure size 432x288 with 1 Axes>"
      ]
     },
     "metadata": {},
     "output_type": "display_data"
    },
    {
     "data": {
      "text/html": [
       "<div>\n",
       "<style scoped>\n",
       "    .dataframe tbody tr th:only-of-type {\n",
       "        vertical-align: middle;\n",
       "    }\n",
       "\n",
       "    .dataframe tbody tr th {\n",
       "        vertical-align: top;\n",
       "    }\n",
       "\n",
       "    .dataframe thead th {\n",
       "        text-align: right;\n",
       "    }\n",
       "</style>\n",
       "<table border=\"1\" class=\"dataframe\">\n",
       "  <thead>\n",
       "    <tr style=\"text-align: right;\">\n",
       "      <th></th>\n",
       "      <th>conversion</th>\n",
       "    </tr>\n",
       "    <tr>\n",
       "      <th>feature_0</th>\n",
       "      <th></th>\n",
       "    </tr>\n",
       "  </thead>\n",
       "  <tbody>\n",
       "    <tr>\n",
       "      <th>0.0</th>\n",
       "      <td>0.505010</td>\n",
       "    </tr>\n",
       "    <tr>\n",
       "      <th>1.0</th>\n",
       "      <td>0.494638</td>\n",
       "    </tr>\n",
       "  </tbody>\n",
       "</table>\n",
       "</div>"
      ],
      "text/plain": [
       "           conversion\n",
       "feature_0            \n",
       "0.0          0.505010\n",
       "1.0          0.494638"
      ]
     },
     "execution_count": 69,
     "metadata": {},
     "output_type": "execute_result"
    }
   ],
   "source": [
    "## ANSWER\n",
    "cat_pivot = cat_df.pivot_table(index=\"feature_0\",values=\"conversion\")\n",
    "cat_pivot.plot.bar()\n",
    "plt.show();\n",
    "cat_pivot"
   ]
  },
  {
   "cell_type": "code",
   "execution_count": 70,
   "metadata": {
    "ExecuteTime": {
     "end_time": "2020-04-22T15:55:37.108042Z",
     "start_time": "2020-04-22T15:55:36.958561Z"
    }
   },
   "outputs": [
    {
     "data": {
      "image/png": "[encoded data removed]",
      "text/plain": [
       "<Figure size 432x288 with 1 Axes>"
      ]
     },
     "metadata": {},
     "output_type": "display_data"
    },
    {
     "data": {
      "text/html": [
       "<div>\n",
       "<style scoped>\n",
       "    .dataframe tbody tr th:only-of-type {\n",
       "        vertical-align: middle;\n",
       "    }\n",
       "\n",
       "    .dataframe tbody tr th {\n",
       "        vertical-align: top;\n",
       "    }\n",
       "\n",
       "    .dataframe thead th {\n",
       "        text-align: right;\n",
       "    }\n",
       "</style>\n",
       "<table border=\"1\" class=\"dataframe\">\n",
       "  <thead>\n",
       "    <tr style=\"text-align: right;\">\n",
       "      <th></th>\n",
       "      <th>conversion</th>\n",
       "    </tr>\n",
       "    <tr>\n",
       "      <th>feature_1</th>\n",
       "      <th></th>\n",
       "    </tr>\n",
       "  </thead>\n",
       "  <tbody>\n",
       "    <tr>\n",
       "      <th>0.0</th>\n",
       "      <td>0.476716</td>\n",
       "    </tr>\n",
       "    <tr>\n",
       "      <th>1.0</th>\n",
       "      <td>0.523802</td>\n",
       "    </tr>\n",
       "  </tbody>\n",
       "</table>\n",
       "</div>"
      ],
      "text/plain": [
       "           conversion\n",
       "feature_1            \n",
       "0.0          0.476716\n",
       "1.0          0.523802"
      ]
     },
     "execution_count": 70,
     "metadata": {},
     "output_type": "execute_result"
    }
   ],
   "source": [
    "## ANSWER\n",
    "cat_pivot = cat_df.pivot_table(index=\"feature_1\",values=\"conversion\")\n",
    "cat_pivot.plot.bar()\n",
    "plt.show();\n",
    "cat_pivot"
   ]
  },
  {
   "cell_type": "code",
   "execution_count": 71,
   "metadata": {
    "ExecuteTime": {
     "end_time": "2020-04-22T15:55:37.265454Z",
     "start_time": "2020-04-22T15:55:37.110398Z"
    }
   },
   "outputs": [
    {
     "data": {
      "image/png": "[encoded data removed]",
      "text/plain": [
       "<Figure size 432x288 with 1 Axes>"
      ]
     },
     "metadata": {},
     "output_type": "display_data"
    },
    {
     "data": {
      "text/html": [
       "<div>\n",
       "<style scoped>\n",
       "    .dataframe tbody tr th:only-of-type {\n",
       "        vertical-align: middle;\n",
       "    }\n",
       "\n",
       "    .dataframe tbody tr th {\n",
       "        vertical-align: top;\n",
       "    }\n",
       "\n",
       "    .dataframe thead th {\n",
       "        text-align: right;\n",
       "    }\n",
       "</style>\n",
       "<table border=\"1\" class=\"dataframe\">\n",
       "  <thead>\n",
       "    <tr style=\"text-align: right;\">\n",
       "      <th></th>\n",
       "      <th>conversion</th>\n",
       "    </tr>\n",
       "    <tr>\n",
       "      <th>feature_2</th>\n",
       "      <th></th>\n",
       "    </tr>\n",
       "  </thead>\n",
       "  <tbody>\n",
       "    <tr>\n",
       "      <th>0.0</th>\n",
       "      <td>0.455494</td>\n",
       "    </tr>\n",
       "    <tr>\n",
       "      <th>1.0</th>\n",
       "      <td>0.542196</td>\n",
       "    </tr>\n",
       "  </tbody>\n",
       "</table>\n",
       "</div>"
      ],
      "text/plain": [
       "           conversion\n",
       "feature_2            \n",
       "0.0          0.455494\n",
       "1.0          0.542196"
      ]
     },
     "execution_count": 71,
     "metadata": {},
     "output_type": "execute_result"
    }
   ],
   "source": [
    "## ANSWER\n",
    "cat_pivot = cat_df.pivot_table(index=\"feature_2\",values=\"conversion\")\n",
    "cat_pivot.plot.bar()\n",
    "plt.show();\n",
    "cat_pivot"
   ]
  },
  {
   "cell_type": "code",
   "execution_count": 72,
   "metadata": {
    "ExecuteTime": {
     "end_time": "2020-04-22T15:55:37.450413Z",
     "start_time": "2020-04-22T15:55:37.286311Z"
    }
   },
   "outputs": [
    {
     "data": {
      "image/png": "[encoded data removed]",
      "text/plain": [
       "<Figure size 432x288 with 1 Axes>"
      ]
     },
     "metadata": {},
     "output_type": "display_data"
    },
    {
     "data": {
      "text/html": [
       "<div>\n",
       "<style scoped>\n",
       "    .dataframe tbody tr th:only-of-type {\n",
       "        vertical-align: middle;\n",
       "    }\n",
       "\n",
       "    .dataframe tbody tr th {\n",
       "        vertical-align: top;\n",
       "    }\n",
       "\n",
       "    .dataframe thead th {\n",
       "        text-align: right;\n",
       "    }\n",
       "</style>\n",
       "<table border=\"1\" class=\"dataframe\">\n",
       "  <thead>\n",
       "    <tr style=\"text-align: right;\">\n",
       "      <th></th>\n",
       "      <th>conversion</th>\n",
       "    </tr>\n",
       "    <tr>\n",
       "      <th>feature_3</th>\n",
       "      <th></th>\n",
       "    </tr>\n",
       "  </thead>\n",
       "  <tbody>\n",
       "    <tr>\n",
       "      <th>0.0</th>\n",
       "      <td>0.464134</td>\n",
       "    </tr>\n",
       "    <tr>\n",
       "      <th>1.0</th>\n",
       "      <td>0.539865</td>\n",
       "    </tr>\n",
       "  </tbody>\n",
       "</table>\n",
       "</div>"
      ],
      "text/plain": [
       "           conversion\n",
       "feature_3            \n",
       "0.0          0.464134\n",
       "1.0          0.539865"
      ]
     },
     "execution_count": 72,
     "metadata": {},
     "output_type": "execute_result"
    }
   ],
   "source": [
    "## ANSWER\n",
    "cat_pivot = cat_df.pivot_table(index=\"feature_3\",values=\"conversion\")\n",
    "cat_pivot.plot.bar()\n",
    "plt.show();\n",
    "cat_pivot"
   ]
  },
  {
   "cell_type": "code",
   "execution_count": 73,
   "metadata": {
    "ExecuteTime": {
     "end_time": "2020-04-22T15:55:38.877776Z",
     "start_time": "2020-04-22T15:55:37.453113Z"
    }
   },
   "outputs": [
    {
     "data": {
      "image/png": "[encoded data removed]",
      "text/plain": [
       "<Figure size 1008x2304 with 35 Axes>"
      ]
     },
     "metadata": {},
     "output_type": "display_data"
    }
   ],
   "source": [
    "#histogram of every base x variable\n",
    "num_df.iloc[:,0:5].hist(figsize=(14, 32), layout=(7, 5));"
   ]
  },
  {
   "cell_type": "code",
   "execution_count": 74,
   "metadata": {
    "ExecuteTime": {
     "end_time": "2020-04-22T15:55:39.153213Z",
     "start_time": "2020-04-22T15:55:38.880275Z"
    }
   },
   "outputs": [
    {
     "data": {
      "image/png": "[encoded data removed]",
      "text/plain": [
       "<Figure size 504x504 with 2 Axes>"
      ]
     },
     "metadata": {},
     "output_type": "display_data"
    }
   ],
   "source": [
    "plt.subplots(figsize=(7, 7))\n",
    "sns.heatmap(num_df.iloc[:,0:5].corr(), annot=True, cmap=\"viridis\").set_title(\"Correlations\")\n",
    "plt.show();"
   ]
  },
  {
   "cell_type": "code",
   "execution_count": 75,
   "metadata": {
    "ExecuteTime": {
     "end_time": "2020-04-22T15:55:39.570457Z",
     "start_time": "2020-04-22T15:55:39.155673Z"
    }
   },
   "outputs": [
    {
     "data": {
      "image/png": "[encoded data removed]",
      "text/plain": [
       "<Figure size 432x288 with 1 Axes>"
      ]
     },
     "metadata": {},
     "output_type": "display_data"
    }
   ],
   "source": [
    "ax = sns.violinplot(x=\"conversion\", y=\"feature_4\", data=num_df)"
   ]
  },
  {
   "cell_type": "code",
   "execution_count": 76,
   "metadata": {
    "ExecuteTime": {
     "end_time": "2020-04-22T15:55:40.041240Z",
     "start_time": "2020-04-22T15:55:39.572493Z"
    }
   },
   "outputs": [
    {
     "data": {
      "image/png": "[encoded data removed]",
      "text/plain": [
       "<Figure size 432x288 with 1 Axes>"
      ]
     },
     "metadata": {},
     "output_type": "display_data"
    }
   ],
   "source": [
    "ax = sns.violinplot(x=\"conversion\", y=\"feature_5\", data=num_df)"
   ]
  },
  {
   "cell_type": "code",
   "execution_count": 77,
   "metadata": {
    "ExecuteTime": {
     "end_time": "2020-04-22T15:55:40.503115Z",
     "start_time": "2020-04-22T15:55:40.043180Z"
    }
   },
   "outputs": [
    {
     "data": {
      "image/png": "[encoded data removed]",
      "text/plain": [
       "<Figure size 432x288 with 1 Axes>"
      ]
     },
     "metadata": {},
     "output_type": "display_data"
    }
   ],
   "source": [
    "ax = sns.violinplot(x=\"conversion\", y=\"feature_6\", data=num_df)"
   ]
  },
  {
   "cell_type": "code",
   "execution_count": 78,
   "metadata": {
    "ExecuteTime": {
     "end_time": "2020-04-22T15:55:41.097734Z",
     "start_time": "2020-04-22T15:55:40.505070Z"
    }
   },
   "outputs": [
    {
     "data": {
      "image/png": "[encoded data removed]",
      "text/plain": [
       "<Figure size 432x288 with 1 Axes>"
      ]
     },
     "metadata": {},
     "output_type": "display_data"
    }
   ],
   "source": [
    "ax = sns.violinplot(x=\"conversion\", y=\"feature_7\", data=num_df)"
   ]
  },
  {
   "cell_type": "code",
   "execution_count": 79,
   "metadata": {
    "ExecuteTime": {
     "end_time": "2020-04-22T15:55:41.519056Z",
     "start_time": "2020-04-22T15:55:41.099670Z"
    }
   },
   "outputs": [
    {
     "data": {
      "image/png": "[encoded data removed]",
      "text/plain": [
       "<Figure size 432x288 with 1 Axes>"
      ]
     },
     "metadata": {},
     "output_type": "display_data"
    }
   ],
   "source": [
    "ax = sns.violinplot(x=\"conversion\", y=\"feature_8\", data=num_df)"
   ]
  },
  {
   "cell_type": "markdown",
   "metadata": {},
   "source": [
    "## Feature Selection"
   ]
  },
  {
   "cell_type": "markdown",
   "metadata": {},
   "source": [
    "### Univariate Logistic CV AUC Importance"
   ]
  },
  {
   "cell_type": "code",
   "execution_count": 80,
   "metadata": {
    "ExecuteTime": {
     "end_time": "2020-04-22T15:55:41.525773Z",
     "start_time": "2020-04-22T15:55:41.522642Z"
    }
   },
   "outputs": [],
   "source": [
    "feature_names = list(basic_df.columns[0:10])\n",
    "target_name = 'conversion'"
   ]
  },
  {
   "cell_type": "code",
   "execution_count": 81,
   "metadata": {
    "ExecuteTime": {
     "end_time": "2020-04-22T15:55:45.541612Z",
     "start_time": "2020-04-22T15:55:41.527834Z"
    }
   },
   "outputs": [
    {
     "data": {
      "text/html": [
       "<div>\n",
       "<style scoped>\n",
       "    .dataframe tbody tr th:only-of-type {\n",
       "        vertical-align: middle;\n",
       "    }\n",
       "\n",
       "    .dataframe tbody tr th {\n",
       "        vertical-align: top;\n",
       "    }\n",
       "\n",
       "    .dataframe thead th {\n",
       "        text-align: right;\n",
       "    }\n",
       "</style>\n",
       "<table border=\"1\" class=\"dataframe\">\n",
       "  <thead>\n",
       "    <tr style=\"text-align: right;\">\n",
       "      <th></th>\n",
       "      <th>cv_score</th>\n",
       "    </tr>\n",
       "  </thead>\n",
       "  <tbody>\n",
       "    <tr>\n",
       "      <th>feature_7</th>\n",
       "      <td>0.623313</td>\n",
       "    </tr>\n",
       "    <tr>\n",
       "      <th>feature_4</th>\n",
       "      <td>0.618476</td>\n",
       "    </tr>\n",
       "    <tr>\n",
       "      <th>feature_5</th>\n",
       "      <td>0.612063</td>\n",
       "    </tr>\n",
       "    <tr>\n",
       "      <th>feature_8</th>\n",
       "      <td>0.610229</td>\n",
       "    </tr>\n",
       "    <tr>\n",
       "      <th>feature_6</th>\n",
       "      <td>0.597760</td>\n",
       "    </tr>\n",
       "    <tr>\n",
       "      <th>feature_2</th>\n",
       "      <td>0.543320</td>\n",
       "    </tr>\n",
       "    <tr>\n",
       "      <th>feature_9</th>\n",
       "      <td>0.542241</td>\n",
       "    </tr>\n",
       "    <tr>\n",
       "      <th>feature_3</th>\n",
       "      <td>0.537760</td>\n",
       "    </tr>\n",
       "    <tr>\n",
       "      <th>feature_1</th>\n",
       "      <td>0.523540</td>\n",
       "    </tr>\n",
       "    <tr>\n",
       "      <th>feature_0</th>\n",
       "      <td>0.505180</td>\n",
       "    </tr>\n",
       "  </tbody>\n",
       "</table>\n",
       "</div>"
      ],
      "text/plain": [
       "           cv_score\n",
       "feature_7  0.623313\n",
       "feature_4  0.618476\n",
       "feature_5  0.612063\n",
       "feature_8  0.610229\n",
       "feature_6  0.597760\n",
       "feature_2  0.543320\n",
       "feature_9  0.542241\n",
       "feature_3  0.537760\n",
       "feature_1  0.523540\n",
       "feature_0  0.505180"
      ]
     },
     "execution_count": 81,
     "metadata": {},
     "output_type": "execute_result"
    }
   ],
   "source": [
    "result_dict = {}\n",
    "for i in feature_names:\n",
    "    x = basic_df[[i]]\n",
    "    y = basic_df[target_name]\n",
    "    log_model = LogisticRegression()\n",
    "    result_dict['{}'.format(i)] = np.mean(cross_val_score(log_model, x, y, cv=5, scoring='roc_auc'))\n",
    "result_frame = pd.DataFrame.from_dict(result_dict, orient='index', columns=['cv_score'])\n",
    "result_frame.sort_values(by='cv_score', ascending = False)"
   ]
  },
  {
   "cell_type": "markdown",
   "metadata": {},
   "source": [
    "### RFE"
   ]
  },
  {
   "cell_type": "code",
   "execution_count": 82,
   "metadata": {
    "ExecuteTime": {
     "end_time": "2020-04-22T15:55:45.548949Z",
     "start_time": "2020-04-22T15:55:45.544933Z"
    }
   },
   "outputs": [],
   "source": [
    "feature_names = list(basic_df.columns[0:9])\n",
    "target_name = 'conversion'"
   ]
  },
  {
   "cell_type": "code",
   "execution_count": 83,
   "metadata": {
    "ExecuteTime": {
     "end_time": "2020-04-22T15:55:45.574145Z",
     "start_time": "2020-04-22T15:55:45.551615Z"
    }
   },
   "outputs": [],
   "source": [
    "## feature selection test train split\n",
    "x = basic_df[feature_names]\n",
    "y = basic_df[target_name]\n",
    "\n",
    "x_train, x_test, y_train, y_test = train_test_split(x, y, test_size=0.2)"
   ]
  },
  {
   "cell_type": "code",
   "execution_count": 84,
   "metadata": {
    "ExecuteTime": {
     "end_time": "2020-04-22T15:55:47.083594Z",
     "start_time": "2020-04-22T15:55:45.577082Z"
    }
   },
   "outputs": [
    {
     "name": "stdout",
     "output_type": "stream",
     "text": [
      "[False  True False  True  True False False False  True]\n",
      "[5 1 3 1 1 2 6 4 1]\n"
     ]
    }
   ],
   "source": [
    "log_model = LogisticRegression()\n",
    "#Initializing RFE model\n",
    "rfe = RFE(log_model)\n",
    "#Transforming data using RFE\n",
    "x_rfe = rfe.fit_transform(x_train,y_train)  \n",
    "#Fitting the data to model\n",
    "log_model.fit(x_train,y_train)\n",
    "print(rfe.support_)\n",
    "print(rfe.ranking_)"
   ]
  },
  {
   "cell_type": "code",
   "execution_count": 85,
   "metadata": {
    "ExecuteTime": {
     "end_time": "2020-04-22T15:55:47.093261Z",
     "start_time": "2020-04-22T15:55:47.086300Z"
    }
   },
   "outputs": [
    {
     "name": "stdout",
     "output_type": "stream",
     "text": [
      "winning features\n"
     ]
    },
    {
     "data": {
      "text/plain": [
       "['feature_1', 'feature_2', 'feature_3', 'feature_4', 'feature_5', 'feature_8']"
      ]
     },
     "execution_count": 85,
     "metadata": {},
     "output_type": "execute_result"
    }
   ],
   "source": [
    "print('winning features')\n",
    "list(compress(feature_names, rfe.ranking_<=3))"
   ]
  },
  {
   "cell_type": "markdown",
   "metadata": {},
   "source": [
    "### RF Feature Selection\n",
    "RF Variable importance will favor continuous variables because they have more random splitting opportunities running the feature types separate."
   ]
  },
  {
   "cell_type": "code",
   "execution_count": 86,
   "metadata": {
    "ExecuteTime": {
     "end_time": "2020-04-22T15:55:47.102806Z",
     "start_time": "2020-04-22T15:55:47.096088Z"
    }
   },
   "outputs": [],
   "source": [
    "feature_names = list(basic_df.columns[0:10])\n",
    "target_name = 'conversion'"
   ]
  },
  {
   "cell_type": "code",
   "execution_count": 87,
   "metadata": {
    "ExecuteTime": {
     "end_time": "2020-04-22T15:55:47.133838Z",
     "start_time": "2020-04-22T15:55:47.105709Z"
    }
   },
   "outputs": [],
   "source": [
    "## feature selection test train split\n",
    "x = basic_df[feature_names]\n",
    "y = basic_df[target_name]\n",
    "\n",
    "x_train, x_test, y_train, y_test = train_test_split(x, y, test_size=0.2)"
   ]
  },
  {
   "cell_type": "code",
   "execution_count": 88,
   "metadata": {
    "ExecuteTime": {
     "end_time": "2020-04-22T15:55:55.887818Z",
     "start_time": "2020-04-22T15:55:47.137304Z"
    }
   },
   "outputs": [],
   "source": [
    "model = RandomForestClassifier(n_estimators=300, max_depth=3, max_features=3)\n",
    "model.fit(x_train,y_train)\n",
    "importances = model.feature_importances_"
   ]
  },
  {
   "cell_type": "code",
   "execution_count": 89,
   "metadata": {
    "ExecuteTime": {
     "end_time": "2020-04-22T15:55:55.927497Z",
     "start_time": "2020-04-22T15:55:55.890389Z"
    }
   },
   "outputs": [],
   "source": [
    "importance_df = pd.DataFrame(model.feature_importances_,\n",
    "                                   index = x_train.columns,\n",
    "                                    columns=['importance']).sort_values('importance',\n",
    "                                                                        ascending=False)"
   ]
  },
  {
   "cell_type": "code",
   "execution_count": 90,
   "metadata": {
    "ExecuteTime": {
     "end_time": "2020-04-22T15:55:55.938490Z",
     "start_time": "2020-04-22T15:55:55.930973Z"
    }
   },
   "outputs": [
    {
     "data": {
      "text/html": [
       "<div>\n",
       "<style scoped>\n",
       "    .dataframe tbody tr th:only-of-type {\n",
       "        vertical-align: middle;\n",
       "    }\n",
       "\n",
       "    .dataframe tbody tr th {\n",
       "        vertical-align: top;\n",
       "    }\n",
       "\n",
       "    .dataframe thead th {\n",
       "        text-align: right;\n",
       "    }\n",
       "</style>\n",
       "<table border=\"1\" class=\"dataframe\">\n",
       "  <thead>\n",
       "    <tr style=\"text-align: right;\">\n",
       "      <th></th>\n",
       "      <th>importance</th>\n",
       "    </tr>\n",
       "  </thead>\n",
       "  <tbody>\n",
       "    <tr>\n",
       "      <th>feature_7</th>\n",
       "      <td>0.255358</td>\n",
       "    </tr>\n",
       "    <tr>\n",
       "      <th>feature_4</th>\n",
       "      <td>0.245391</td>\n",
       "    </tr>\n",
       "    <tr>\n",
       "      <th>feature_5</th>\n",
       "      <td>0.198878</td>\n",
       "    </tr>\n",
       "    <tr>\n",
       "      <th>feature_8</th>\n",
       "      <td>0.166628</td>\n",
       "    </tr>\n",
       "    <tr>\n",
       "      <th>feature_6</th>\n",
       "      <td>0.097703</td>\n",
       "    </tr>\n",
       "    <tr>\n",
       "      <th>feature_2</th>\n",
       "      <td>0.013680</td>\n",
       "    </tr>\n",
       "    <tr>\n",
       "      <th>feature_3</th>\n",
       "      <td>0.012394</td>\n",
       "    </tr>\n",
       "    <tr>\n",
       "      <th>feature_9</th>\n",
       "      <td>0.008863</td>\n",
       "    </tr>\n",
       "    <tr>\n",
       "      <th>feature_1</th>\n",
       "      <td>0.001105</td>\n",
       "    </tr>\n",
       "    <tr>\n",
       "      <th>feature_0</th>\n",
       "      <td>0.000000</td>\n",
       "    </tr>\n",
       "  </tbody>\n",
       "</table>\n",
       "</div>"
      ],
      "text/plain": [
       "           importance\n",
       "feature_7    0.255358\n",
       "feature_4    0.245391\n",
       "feature_5    0.198878\n",
       "feature_8    0.166628\n",
       "feature_6    0.097703\n",
       "feature_2    0.013680\n",
       "feature_3    0.012394\n",
       "feature_9    0.008863\n",
       "feature_1    0.001105\n",
       "feature_0    0.000000"
      ]
     },
     "execution_count": 90,
     "metadata": {},
     "output_type": "execute_result"
    }
   ],
   "source": [
    "importance_df"
   ]
  },
  {
   "cell_type": "markdown",
   "metadata": {},
   "source": [
    "Based on both univariate logistic and random forest variable importance, feature_0 seems to be not useful in predicting conversion."
   ]
  }
 ],
 "metadata": {
  "kernelspec": {
   "display_name": "Python 3",
   "language": "python",
   "name": "python3"
  },
  "language_info": {
   "codemirror_mode": {
    "name": "ipython",
    "version": 3
   },
   "file_extension": ".py",
   "mimetype": "text/x-python",
   "name": "python",
   "nbconvert_exporter": "python",
   "pygments_lexer": "ipython3",
   "version": "3.6.8"
  },
  "toc": {
   "base_numbering": 1,
   "nav_menu": {},
   "number_sections": true,
   "sideBar": true,
   "skip_h1_title": false,
   "title_cell": "Table of Contents",
   "title_sidebar": "Contents",
   "toc_cell": false,
   "toc_position": {},
   "toc_section_display": true,
   "toc_window_display": false
  }
 },
 "nbformat": 4,
 "nbformat_minor": 2
}
