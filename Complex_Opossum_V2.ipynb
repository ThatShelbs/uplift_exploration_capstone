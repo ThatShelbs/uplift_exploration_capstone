{
 "cells": [
  {
   "cell_type": "markdown",
   "metadata": {},
   "source": [
    "# Opossum Complex\n",
    "A synthetic data generator for causal impact and uplift analysis.\n",
    "\n",
    "We are setting out to make a dataset that is big (2M), has a ton of features (200), a low response rate (3%), moderate lift effect from treatment."
   ]
  },
  {
   "cell_type": "code",
   "execution_count": 1,
   "metadata": {
    "ExecuteTime": {
     "end_time": "2020-04-27T00:11:10.797078Z",
     "start_time": "2020-04-27T00:11:05.950335Z"
    }
   },
   "outputs": [],
   "source": [
    "from opossum import UserInterface\n",
    "import pandas as pd\n",
    "import numpy as np\n",
    "import seaborn as sns\n",
    "import matplotlib.pyplot as plt\n",
    "from scipy import stats\n",
    "\n",
    "import warnings\n",
    "warnings.filterwarnings('ignore')"
   ]
  },
  {
   "cell_type": "markdown",
   "metadata": {},
   "source": [
    "## Settings\n",
    "150 features will be continuous\n",
    "100 features will be categorical (40% binary, 30% 3 levels, 20% 5 levels, 10% 50 levels)\n",
    "\n",
    "Assignment to exposure of advertisement (treatment) will be random at a probably of 85%\n",
    "\n",
    "The intensity of the lift will be strong (8 on a scale of 10)"
   ]
  },
  {
   "cell_type": "code",
   "execution_count": 2,
   "metadata": {
    "ExecuteTime": {
     "end_time": "2020-04-27T00:12:35.936640Z",
     "start_time": "2020-04-27T00:11:10.800538Z"
    }
   },
   "outputs": [],
   "source": [
    "# number of observations N and number of covariates k\n",
    "N = 2000000\n",
    "k = 60\n",
    "\n",
    "# initilizing class\n",
    "u = UserInterface(N, k, seed=847, categorical_covariates = [20,[2,3,4,50,2,3,4,2,3,2]])\n",
    "\n",
    "# assign treatment and generate treatment effect inside of class object\n",
    "u.generate_treatment(random_assignment = True, \n",
    "                     assignment_prob = 0.75, \n",
    "                     treatment_option_weights = [.10,.033,0.80,0.033,0.034,.0], \n",
    "                     intensity = 10)"
   ]
  },
  {
   "cell_type": "markdown",
   "metadata": {},
   "source": [
    "This will generate the needed output as four objects.\n",
    " - X contains the features\n",
    " - y contains the outcome\n",
    " - assignment represents if they were exposed to treatment\n",
    " - treatment represents the effect of treatment"
   ]
  },
  {
   "cell_type": "code",
   "execution_count": 3,
   "metadata": {
    "ExecuteTime": {
     "end_time": "2020-04-27T00:12:37.082318Z",
     "start_time": "2020-04-27T00:12:35.940501Z"
    }
   },
   "outputs": [],
   "source": [
    "# Creating continuous y with partial nonlinear relation \n",
    "    #X contains the features, y contains the outcome,\n",
    "    #assignment represents if they were exposed to treatment\n",
    "y, X, assignment, treatment = u.output_data(binary=False, x_y_relation = 'linear_simple')"
   ]
  },
  {
   "cell_type": "code",
   "execution_count": 4,
   "metadata": {
    "ExecuteTime": {
     "end_time": "2020-04-27T00:12:37.096702Z",
     "start_time": "2020-04-27T00:12:37.089079Z"
    }
   },
   "outputs": [],
   "source": [
    "sim_data_X = pd.DataFrame(X)\n",
    "sim_data_y = pd.DataFrame(y)\n",
    "sim_data_assign = pd.DataFrame(assignment)\n",
    "sim_data_treat = pd.DataFrame(treatment)"
   ]
  },
  {
   "cell_type": "code",
   "execution_count": 5,
   "metadata": {
    "ExecuteTime": {
     "end_time": "2020-04-27T00:12:41.446570Z",
     "start_time": "2020-04-27T00:12:37.103318Z"
    }
   },
   "outputs": [],
   "source": [
    "sim_data_X = sim_data_X.rename(columns=lambda s: 'feature_'+str(s))\n",
    "sim_data_y = sim_data_y.rename(columns={0:'response_cont'})\n",
    "sim_data_assign = sim_data_assign.rename(columns={0:'exposed'})\n",
    "sim_data_treat = sim_data_treat.rename(columns={0:'true_lift'})"
   ]
  },
  {
   "cell_type": "code",
   "execution_count": 6,
   "metadata": {
    "ExecuteTime": {
     "end_time": "2020-04-27T00:12:43.245264Z",
     "start_time": "2020-04-27T00:12:41.450279Z"
    }
   },
   "outputs": [],
   "source": [
    "x = 60\n",
    "name_list = []\n",
    "while x <= 119:\n",
    "    y = 'feature_' + str(x)\n",
    "    name_list.append(y)\n",
    "    x = x + 1\n",
    "\n",
    "sim_data_noise1 = pd.DataFrame(np.random.randint(0,2,size=(2000000, 60)), columns=name_list)"
   ]
  },
  {
   "cell_type": "code",
   "execution_count": 7,
   "metadata": {
    "ExecuteTime": {
     "end_time": "2020-04-27T00:12:44.744093Z",
     "start_time": "2020-04-27T00:12:43.248100Z"
    }
   },
   "outputs": [],
   "source": [
    "x = 120\n",
    "name_list = []\n",
    "while x <= 169:\n",
    "    y = 'feature_' + str(x)\n",
    "    name_list.append(y)\n",
    "    x = x + 1\n",
    "\n",
    "sim_data_noise2 = pd.DataFrame(np.random.randint(0,1000,size=(2000000, 50)), columns=name_list)"
   ]
  },
  {
   "cell_type": "code",
   "execution_count": 8,
   "metadata": {
    "ExecuteTime": {
     "end_time": "2020-04-27T00:12:46.233557Z",
     "start_time": "2020-04-27T00:12:44.746669Z"
    }
   },
   "outputs": [],
   "source": [
    "x = 170\n",
    "name_list = []\n",
    "while x <= 199:\n",
    "    y = 'feature_' + str(x)\n",
    "    name_list.append(y)\n",
    "    x = x + 1\n",
    "\n",
    "sim_data_noise3 = pd.DataFrame(np.random.uniform(0,100,size=(2000000, 30)), columns=name_list)"
   ]
  },
  {
   "cell_type": "code",
   "execution_count": 9,
   "metadata": {
    "ExecuteTime": {
     "end_time": "2020-04-27T00:13:21.507970Z",
     "start_time": "2020-04-27T00:12:46.236792Z"
    }
   },
   "outputs": [
    {
     "data": {
      "text/html": [
       "<div>\n",
       "<style scoped>\n",
       "    .dataframe tbody tr th:only-of-type {\n",
       "        vertical-align: middle;\n",
       "    }\n",
       "\n",
       "    .dataframe tbody tr th {\n",
       "        vertical-align: top;\n",
       "    }\n",
       "\n",
       "    .dataframe thead th {\n",
       "        text-align: right;\n",
       "    }\n",
       "</style>\n",
       "<table border=\"1\" class=\"dataframe\">\n",
       "  <thead>\n",
       "    <tr style=\"text-align: right;\">\n",
       "      <th></th>\n",
       "      <th>feature_0</th>\n",
       "      <th>feature_1</th>\n",
       "      <th>feature_2</th>\n",
       "      <th>feature_3</th>\n",
       "      <th>feature_4</th>\n",
       "      <th>feature_5</th>\n",
       "      <th>feature_6</th>\n",
       "      <th>feature_7</th>\n",
       "      <th>feature_8</th>\n",
       "      <th>feature_9</th>\n",
       "      <th>...</th>\n",
       "      <th>feature_193</th>\n",
       "      <th>feature_194</th>\n",
       "      <th>feature_195</th>\n",
       "      <th>feature_196</th>\n",
       "      <th>feature_197</th>\n",
       "      <th>feature_198</th>\n",
       "      <th>feature_199</th>\n",
       "      <th>response_cont</th>\n",
       "      <th>exposed</th>\n",
       "      <th>true_lift</th>\n",
       "    </tr>\n",
       "  </thead>\n",
       "  <tbody>\n",
       "    <tr>\n",
       "      <th>1252101</th>\n",
       "      <td>0.0</td>\n",
       "      <td>0.0</td>\n",
       "      <td>1.0</td>\n",
       "      <td>0.0</td>\n",
       "      <td>0.0</td>\n",
       "      <td>1.0</td>\n",
       "      <td>0.0</td>\n",
       "      <td>1.0</td>\n",
       "      <td>1.0</td>\n",
       "      <td>1.0</td>\n",
       "      <td>...</td>\n",
       "      <td>99.031408</td>\n",
       "      <td>19.481617</td>\n",
       "      <td>12.347562</td>\n",
       "      <td>37.022016</td>\n",
       "      <td>35.476516</td>\n",
       "      <td>55.912029</td>\n",
       "      <td>9.370150</td>\n",
       "      <td>4.059564</td>\n",
       "      <td>1</td>\n",
       "      <td>-2.000000</td>\n",
       "    </tr>\n",
       "    <tr>\n",
       "      <th>538089</th>\n",
       "      <td>0.0</td>\n",
       "      <td>1.0</td>\n",
       "      <td>1.0</td>\n",
       "      <td>1.0</td>\n",
       "      <td>0.0</td>\n",
       "      <td>0.0</td>\n",
       "      <td>1.0</td>\n",
       "      <td>1.0</td>\n",
       "      <td>2.0</td>\n",
       "      <td>0.0</td>\n",
       "      <td>...</td>\n",
       "      <td>12.114937</td>\n",
       "      <td>60.373333</td>\n",
       "      <td>46.071114</td>\n",
       "      <td>13.295516</td>\n",
       "      <td>49.619184</td>\n",
       "      <td>18.933123</td>\n",
       "      <td>2.591751</td>\n",
       "      <td>9.683722</td>\n",
       "      <td>1</td>\n",
       "      <td>1.922918</td>\n",
       "    </tr>\n",
       "    <tr>\n",
       "      <th>1212260</th>\n",
       "      <td>0.0</td>\n",
       "      <td>0.0</td>\n",
       "      <td>0.0</td>\n",
       "      <td>1.0</td>\n",
       "      <td>0.0</td>\n",
       "      <td>0.0</td>\n",
       "      <td>0.0</td>\n",
       "      <td>0.0</td>\n",
       "      <td>0.0</td>\n",
       "      <td>1.0</td>\n",
       "      <td>...</td>\n",
       "      <td>3.002752</td>\n",
       "      <td>3.408065</td>\n",
       "      <td>87.598130</td>\n",
       "      <td>90.918145</td>\n",
       "      <td>74.086657</td>\n",
       "      <td>17.128411</td>\n",
       "      <td>94.526841</td>\n",
       "      <td>8.736469</td>\n",
       "      <td>1</td>\n",
       "      <td>1.005651</td>\n",
       "    </tr>\n",
       "    <tr>\n",
       "      <th>1097785</th>\n",
       "      <td>1.0</td>\n",
       "      <td>1.0</td>\n",
       "      <td>0.0</td>\n",
       "      <td>1.0</td>\n",
       "      <td>1.0</td>\n",
       "      <td>1.0</td>\n",
       "      <td>0.0</td>\n",
       "      <td>1.0</td>\n",
       "      <td>0.0</td>\n",
       "      <td>2.0</td>\n",
       "      <td>...</td>\n",
       "      <td>6.393093</td>\n",
       "      <td>6.460996</td>\n",
       "      <td>41.818599</td>\n",
       "      <td>64.183148</td>\n",
       "      <td>49.234920</td>\n",
       "      <td>48.493922</td>\n",
       "      <td>80.042480</td>\n",
       "      <td>12.694787</td>\n",
       "      <td>1</td>\n",
       "      <td>1.523129</td>\n",
       "    </tr>\n",
       "    <tr>\n",
       "      <th>955259</th>\n",
       "      <td>0.0</td>\n",
       "      <td>1.0</td>\n",
       "      <td>0.0</td>\n",
       "      <td>1.0</td>\n",
       "      <td>0.0</td>\n",
       "      <td>0.0</td>\n",
       "      <td>1.0</td>\n",
       "      <td>1.0</td>\n",
       "      <td>2.0</td>\n",
       "      <td>1.0</td>\n",
       "      <td>...</td>\n",
       "      <td>50.110568</td>\n",
       "      <td>45.620246</td>\n",
       "      <td>2.725106</td>\n",
       "      <td>8.332759</td>\n",
       "      <td>92.108088</td>\n",
       "      <td>82.872671</td>\n",
       "      <td>41.803171</td>\n",
       "      <td>13.885372</td>\n",
       "      <td>1</td>\n",
       "      <td>0.070908</td>\n",
       "    </tr>\n",
       "    <tr>\n",
       "      <th>1001104</th>\n",
       "      <td>1.0</td>\n",
       "      <td>1.0</td>\n",
       "      <td>1.0</td>\n",
       "      <td>0.0</td>\n",
       "      <td>1.0</td>\n",
       "      <td>0.0</td>\n",
       "      <td>0.0</td>\n",
       "      <td>0.0</td>\n",
       "      <td>1.0</td>\n",
       "      <td>2.0</td>\n",
       "      <td>...</td>\n",
       "      <td>52.707512</td>\n",
       "      <td>90.272453</td>\n",
       "      <td>20.394392</td>\n",
       "      <td>13.741019</td>\n",
       "      <td>11.165889</td>\n",
       "      <td>64.889875</td>\n",
       "      <td>78.661454</td>\n",
       "      <td>8.858999</td>\n",
       "      <td>1</td>\n",
       "      <td>0.865856</td>\n",
       "    </tr>\n",
       "    <tr>\n",
       "      <th>1577387</th>\n",
       "      <td>1.0</td>\n",
       "      <td>1.0</td>\n",
       "      <td>1.0</td>\n",
       "      <td>1.0</td>\n",
       "      <td>0.0</td>\n",
       "      <td>0.0</td>\n",
       "      <td>1.0</td>\n",
       "      <td>0.0</td>\n",
       "      <td>1.0</td>\n",
       "      <td>2.0</td>\n",
       "      <td>...</td>\n",
       "      <td>66.071150</td>\n",
       "      <td>28.046372</td>\n",
       "      <td>94.053031</td>\n",
       "      <td>8.664970</td>\n",
       "      <td>47.155715</td>\n",
       "      <td>31.635677</td>\n",
       "      <td>29.909535</td>\n",
       "      <td>10.080252</td>\n",
       "      <td>1</td>\n",
       "      <td>2.110456</td>\n",
       "    </tr>\n",
       "    <tr>\n",
       "      <th>1287371</th>\n",
       "      <td>1.0</td>\n",
       "      <td>0.0</td>\n",
       "      <td>1.0</td>\n",
       "      <td>0.0</td>\n",
       "      <td>1.0</td>\n",
       "      <td>0.0</td>\n",
       "      <td>1.0</td>\n",
       "      <td>1.0</td>\n",
       "      <td>1.0</td>\n",
       "      <td>1.0</td>\n",
       "      <td>...</td>\n",
       "      <td>68.694137</td>\n",
       "      <td>42.042744</td>\n",
       "      <td>93.813785</td>\n",
       "      <td>46.758917</td>\n",
       "      <td>96.639800</td>\n",
       "      <td>26.935291</td>\n",
       "      <td>8.970892</td>\n",
       "      <td>11.153119</td>\n",
       "      <td>1</td>\n",
       "      <td>1.239112</td>\n",
       "    </tr>\n",
       "    <tr>\n",
       "      <th>1966757</th>\n",
       "      <td>1.0</td>\n",
       "      <td>0.0</td>\n",
       "      <td>1.0</td>\n",
       "      <td>0.0</td>\n",
       "      <td>0.0</td>\n",
       "      <td>0.0</td>\n",
       "      <td>1.0</td>\n",
       "      <td>1.0</td>\n",
       "      <td>1.0</td>\n",
       "      <td>2.0</td>\n",
       "      <td>...</td>\n",
       "      <td>94.795005</td>\n",
       "      <td>15.670992</td>\n",
       "      <td>16.706213</td>\n",
       "      <td>35.691272</td>\n",
       "      <td>98.996721</td>\n",
       "      <td>16.824705</td>\n",
       "      <td>32.751851</td>\n",
       "      <td>14.439111</td>\n",
       "      <td>1</td>\n",
       "      <td>2.000000</td>\n",
       "    </tr>\n",
       "    <tr>\n",
       "      <th>1984201</th>\n",
       "      <td>0.0</td>\n",
       "      <td>1.0</td>\n",
       "      <td>0.0</td>\n",
       "      <td>1.0</td>\n",
       "      <td>1.0</td>\n",
       "      <td>1.0</td>\n",
       "      <td>0.0</td>\n",
       "      <td>0.0</td>\n",
       "      <td>2.0</td>\n",
       "      <td>0.0</td>\n",
       "      <td>...</td>\n",
       "      <td>92.820072</td>\n",
       "      <td>11.005493</td>\n",
       "      <td>6.540104</td>\n",
       "      <td>62.888347</td>\n",
       "      <td>42.287016</td>\n",
       "      <td>46.368026</td>\n",
       "      <td>92.418362</td>\n",
       "      <td>7.627916</td>\n",
       "      <td>1</td>\n",
       "      <td>0.735001</td>\n",
       "    </tr>\n",
       "  </tbody>\n",
       "</table>\n",
       "<p>10 rows × 203 columns</p>\n",
       "</div>"
      ],
      "text/plain": [
       "         feature_0  feature_1  feature_2  feature_3  feature_4  feature_5  \\\n",
       "1252101        0.0        0.0        1.0        0.0        0.0        1.0   \n",
       "538089         0.0        1.0        1.0        1.0        0.0        0.0   \n",
       "1212260        0.0        0.0        0.0        1.0        0.0        0.0   \n",
       "1097785        1.0        1.0        0.0        1.0        1.0        1.0   \n",
       "955259         0.0        1.0        0.0        1.0        0.0        0.0   \n",
       "1001104        1.0        1.0        1.0        0.0        1.0        0.0   \n",
       "1577387        1.0        1.0        1.0        1.0        0.0        0.0   \n",
       "1287371        1.0        0.0        1.0        0.0        1.0        0.0   \n",
       "1966757        1.0        0.0        1.0        0.0        0.0        0.0   \n",
       "1984201        0.0        1.0        0.0        1.0        1.0        1.0   \n",
       "\n",
       "         feature_6  feature_7  feature_8  feature_9  ...  feature_193  \\\n",
       "1252101        0.0        1.0        1.0        1.0  ...    99.031408   \n",
       "538089         1.0        1.0        2.0        0.0  ...    12.114937   \n",
       "1212260        0.0        0.0        0.0        1.0  ...     3.002752   \n",
       "1097785        0.0        1.0        0.0        2.0  ...     6.393093   \n",
       "955259         1.0        1.0        2.0        1.0  ...    50.110568   \n",
       "1001104        0.0        0.0        1.0        2.0  ...    52.707512   \n",
       "1577387        1.0        0.0        1.0        2.0  ...    66.071150   \n",
       "1287371        1.0        1.0        1.0        1.0  ...    68.694137   \n",
       "1966757        1.0        1.0        1.0        2.0  ...    94.795005   \n",
       "1984201        0.0        0.0        2.0        0.0  ...    92.820072   \n",
       "\n",
       "         feature_194  feature_195  feature_196  feature_197  feature_198  \\\n",
       "1252101    19.481617    12.347562    37.022016    35.476516    55.912029   \n",
       "538089     60.373333    46.071114    13.295516    49.619184    18.933123   \n",
       "1212260     3.408065    87.598130    90.918145    74.086657    17.128411   \n",
       "1097785     6.460996    41.818599    64.183148    49.234920    48.493922   \n",
       "955259     45.620246     2.725106     8.332759    92.108088    82.872671   \n",
       "1001104    90.272453    20.394392    13.741019    11.165889    64.889875   \n",
       "1577387    28.046372    94.053031     8.664970    47.155715    31.635677   \n",
       "1287371    42.042744    93.813785    46.758917    96.639800    26.935291   \n",
       "1966757    15.670992    16.706213    35.691272    98.996721    16.824705   \n",
       "1984201    11.005493     6.540104    62.888347    42.287016    46.368026   \n",
       "\n",
       "         feature_199  response_cont  exposed  true_lift  \n",
       "1252101     9.370150       4.059564        1  -2.000000  \n",
       "538089      2.591751       9.683722        1   1.922918  \n",
       "1212260    94.526841       8.736469        1   1.005651  \n",
       "1097785    80.042480      12.694787        1   1.523129  \n",
       "955259     41.803171      13.885372        1   0.070908  \n",
       "1001104    78.661454       8.858999        1   0.865856  \n",
       "1577387    29.909535      10.080252        1   2.110456  \n",
       "1287371     8.970892      11.153119        1   1.239112  \n",
       "1966757    32.751851      14.439111        1   2.000000  \n",
       "1984201    92.418362       7.627916        1   0.735001  \n",
       "\n",
       "[10 rows x 203 columns]"
      ]
     },
     "execution_count": 9,
     "metadata": {},
     "output_type": "execute_result"
    }
   ],
   "source": [
    "sim_data = pd.merge(sim_data_X, sim_data_noise1, left_index=True, right_index=True)\n",
    "sim_data = pd.merge(sim_data, sim_data_noise2, left_index=True, right_index=True)\n",
    "sim_data = pd.merge(sim_data, sim_data_noise3, left_index=True, right_index=True)\n",
    "sim_data = pd.merge(sim_data, sim_data_y, left_index=True, right_index=True)\n",
    "sim_data = pd.merge(sim_data, sim_data_assign, left_index=True, right_index=True)\n",
    "sim_data = pd.merge(sim_data, sim_data_treat, left_index=True, right_index=True)\n",
    "sim_data.sample(10)"
   ]
  },
  {
   "cell_type": "code",
   "execution_count": 10,
   "metadata": {
    "ExecuteTime": {
     "end_time": "2020-04-27T00:13:21.556415Z",
     "start_time": "2020-04-27T00:13:21.517702Z"
    }
   },
   "outputs": [
    {
     "name": "stdout",
     "output_type": "stream",
     "text": [
      "<class 'pandas.core.frame.DataFrame'>\n",
      "RangeIndex: 2000000 entries, 0 to 1999999\n",
      "Columns: 203 entries, feature_0 to true_lift\n",
      "dtypes: float64(92), int64(111)\n",
      "memory usage: 3.0 GB\n"
     ]
    }
   ],
   "source": [
    "sim_data.info()"
   ]
  },
  {
   "cell_type": "markdown",
   "metadata": {
    "ExecuteTime": {
     "end_time": "2020-03-14T23:46:48.306889Z",
     "start_time": "2020-03-14T23:46:48.301376Z"
    }
   },
   "source": [
    "## Binary Response\n",
    "\n",
    "We will have a binary response built on the top 3 percentile of the response cont field"
   ]
  },
  {
   "cell_type": "code",
   "execution_count": 11,
   "metadata": {
    "ExecuteTime": {
     "end_time": "2020-04-27T00:13:26.201830Z",
     "start_time": "2020-04-27T00:13:21.559302Z"
    }
   },
   "outputs": [
    {
     "data": {
      "image/png": "[encoded data removed]",
      "text/plain": [
       "<Figure size 432x288 with 1 Axes>"
      ]
     },
     "metadata": {
      "needs_background": "light"
     },
     "output_type": "display_data"
    }
   ],
   "source": [
    "sns.distplot(sim_data[sim_data['exposed']==1]['true_lift']);"
   ]
  },
  {
   "cell_type": "code",
   "execution_count": 12,
   "metadata": {
    "ExecuteTime": {
     "end_time": "2020-04-27T00:13:29.284512Z",
     "start_time": "2020-04-27T00:13:26.204339Z"
    }
   },
   "outputs": [
    {
     "data": {
      "image/png": "[encoded data removed]",
      "text/plain": [
       "<Figure size 432x288 with 1 Axes>"
      ]
     },
     "metadata": {
      "needs_background": "light"
     },
     "output_type": "display_data"
    }
   ],
   "source": [
    "sns.distplot(sim_data['response_cont']);\n",
    "sns.distplot(sim_data['response_cont']-sim_data['true_lift']);"
   ]
  },
  {
   "cell_type": "code",
   "execution_count": 13,
   "metadata": {
    "ExecuteTime": {
     "end_time": "2020-04-27T00:13:35.286516Z",
     "start_time": "2020-04-27T00:13:29.287408Z"
    }
   },
   "outputs": [
    {
     "data": {
      "image/png": "[encoded data removed]",
      "text/plain": [
       "<Figure size 432x288 with 1 Axes>"
      ]
     },
     "metadata": {
      "needs_background": "light"
     },
     "output_type": "display_data"
    }
   ],
   "source": [
    "exposed_df = sim_data[sim_data['exposed']==1]\n",
    "not_exposed_df = sim_data[sim_data['exposed']==0]\n",
    "sns.distplot(exposed_df['response_cont']);\n",
    "sns.distplot(not_exposed_df['response_cont']);"
   ]
  },
  {
   "cell_type": "code",
   "execution_count": 14,
   "metadata": {
    "ExecuteTime": {
     "end_time": "2020-04-27T00:13:35.305177Z",
     "start_time": "2020-04-27T00:13:35.289522Z"
    }
   },
   "outputs": [],
   "source": [
    "sim_data['response_cont_prior'] = sim_data['response_cont']-sim_data['true_lift']"
   ]
  },
  {
   "cell_type": "code",
   "execution_count": 15,
   "metadata": {
    "ExecuteTime": {
     "end_time": "2020-04-27T00:13:45.768164Z",
     "start_time": "2020-04-27T00:13:35.308176Z"
    }
   },
   "outputs": [],
   "source": [
    "sim_data['conversion'] = 0\n",
    "sim_data['conversion_post'] = 0\n",
    "sim_data.loc[sim_data['response_cont_prior'] < sim_data['response_cont_prior'].quantile(q=.97), 'conversion'] = 0\n",
    "sim_data.loc[sim_data['response_cont_prior'] >= sim_data['response_cont_prior'].quantile(q=.97), 'conversion'] = 1\n",
    "sim_data.loc[sim_data['response_cont'] < sim_data['response_cont_prior'].quantile(q=.97), 'conversion_post'] = 0\n",
    "sim_data.loc[sim_data['response_cont'] >= sim_data['response_cont_prior'].quantile(q=.97), 'conversion_post'] = 1"
   ]
  },
  {
   "cell_type": "code",
   "execution_count": 16,
   "metadata": {
    "ExecuteTime": {
     "end_time": "2020-04-27T00:17:45.815411Z",
     "start_time": "2020-04-27T00:13:45.771129Z"
    }
   },
   "outputs": [],
   "source": [
    "def segments_f(row):\n",
    "        if row['conversion_post'] == 1 and row['conversion'] == 0:\n",
    "            return 'persuadable'\n",
    "        elif row['conversion_post'] == 1 and row['conversion'] == 1:\n",
    "            return 'sure_thing'\n",
    "        elif row['conversion_post'] == 0 and row['conversion'] == 1:\n",
    "            return 'sleeping_dog'\n",
    "        elif row['conversion_post'] == 0 and row['conversion'] == 0:\n",
    "            return 'lost_cause'\n",
    "\n",
    "sim_data['segments'] = sim_data.apply(segments_f, axis=1)"
   ]
  },
  {
   "cell_type": "code",
   "execution_count": 17,
   "metadata": {
    "ExecuteTime": {
     "end_time": "2020-04-27T00:17:46.635608Z",
     "start_time": "2020-04-27T00:17:45.821028Z"
    }
   },
   "outputs": [
    {
     "data": {
      "image/png": "[encoded data removed]",
      "text/plain": [
       "<Figure size 432x288 with 1 Axes>"
      ]
     },
     "metadata": {
      "needs_background": "light"
     },
     "output_type": "display_data"
    }
   ],
   "source": [
    "sns.countplot(x=\"segments\", data=sim_data, palette='Set3');"
   ]
  },
  {
   "cell_type": "code",
   "execution_count": 18,
   "metadata": {
    "ExecuteTime": {
     "end_time": "2020-04-27T00:17:46.946238Z",
     "start_time": "2020-04-27T00:17:46.642025Z"
    }
   },
   "outputs": [
    {
     "data": {
      "text/plain": [
       "lost_cause      1820434\n",
       "persuadable      119566\n",
       "sure_thing        58386\n",
       "sleeping_dog       1614\n",
       "Name: segments, dtype: int64"
      ]
     },
     "execution_count": 18,
     "metadata": {},
     "output_type": "execute_result"
    }
   ],
   "source": [
    "sim_data['segments'].value_counts()"
   ]
  },
  {
   "cell_type": "code",
   "execution_count": 19,
   "metadata": {
    "ExecuteTime": {
     "end_time": "2020-04-27T00:17:49.634313Z",
     "start_time": "2020-04-27T00:17:46.949148Z"
    }
   },
   "outputs": [
    {
     "name": "stdout",
     "output_type": "stream",
     "text": [
      "conversions with no marketing:  60000\n",
      "base propensity: 0.03\n",
      "conversions with marketing:  177952\n",
      "persuadables:  119566\n",
      "pursuadable rate: 0.06\n"
     ]
    }
   ],
   "source": [
    "#conversions with no marketing\n",
    "print('conversions with no marketing: ', sim_data['conversion'].sum())\n",
    "print('base propensity: {:.2f}'.format(sim_data['conversion'].sum()/len(sim_data['conversion'])))\n",
    "print('conversions with marketing: ', sim_data['conversion_post'].sum())\n",
    "#Persuadables\n",
    "print('persuadables: ',sim_data[sim_data['segments']=='persuadable']['segments'].count())\n",
    "\n",
    "print('pursuadable rate: {:.2f}'.format(sim_data[sim_data['segments']=='persuadable']['segments'].count()/len(sim_data['conversion'])))"
   ]
  },
  {
   "cell_type": "code",
   "execution_count": 20,
   "metadata": {
    "ExecuteTime": {
     "end_time": "2020-04-27T00:17:49.677312Z",
     "start_time": "2020-04-27T00:17:49.637222Z"
    }
   },
   "outputs": [
    {
     "name": "stdout",
     "output_type": "stream",
     "text": [
      "<class 'pandas.core.frame.DataFrame'>\n",
      "RangeIndex: 2000000 entries, 0 to 1999999\n",
      "Columns: 207 entries, feature_0 to segments\n",
      "dtypes: float64(93), int64(113), object(1)\n",
      "memory usage: 3.1+ GB\n"
     ]
    }
   ],
   "source": [
    "sim_data.info()"
   ]
  },
  {
   "cell_type": "code",
   "execution_count": 21,
   "metadata": {
    "ExecuteTime": {
     "end_time": "2020-04-27T00:20:14.597939Z",
     "start_time": "2020-04-27T00:17:49.682313Z"
    }
   },
   "outputs": [],
   "source": [
    "sim_data.iloc[:,0:20] = sim_data.iloc[:,0:20].astype('category')\n",
    "sim_data.iloc[:,60:120] = sim_data.iloc[:,60:120].astype('category')\n",
    "sim_data['exposed'] = sim_data['exposed'].astype('category')\n",
    "sim_data['conversion'] = sim_data['conversion'].astype('category')\n",
    "sim_data['conversion_post'] = sim_data['conversion_post'].astype('category')"
   ]
  },
  {
   "cell_type": "code",
   "execution_count": 22,
   "metadata": {
    "ExecuteTime": {
     "end_time": "2020-04-27T00:20:14.654775Z",
     "start_time": "2020-04-27T00:20:14.602016Z"
    }
   },
   "outputs": [
    {
     "name": "stdout",
     "output_type": "stream",
     "text": [
      "<class 'pandas.core.frame.DataFrame'>\n",
      "RangeIndex: 2000000 entries, 0 to 1999999\n",
      "Columns: 207 entries, feature_0 to segments\n",
      "dtypes: category(83), float64(73), int64(50), object(1)\n",
      "memory usage: 2.0+ GB\n"
     ]
    }
   ],
   "source": [
    "sim_data.info()"
   ]
  },
  {
   "cell_type": "code",
   "execution_count": 23,
   "metadata": {
    "ExecuteTime": {
     "end_time": "2020-04-27T00:20:27.469636Z",
     "start_time": "2020-04-27T00:20:14.660550Z"
    }
   },
   "outputs": [],
   "source": [
    "##Commenting out to prevent override of dataset\n",
    "filepath = ('/nas/isg_prodops_work/stemr/2020/2020_03 - Capstone Project/')\n",
    "sim_data.to_pickle(filepath + 'opossum_sim_complex.pkl')"
   ]
  },
  {
   "cell_type": "code",
   "execution_count": 24,
   "metadata": {
    "ExecuteTime": {
     "end_time": "2020-04-27T00:20:27.664050Z",
     "start_time": "2020-04-27T00:20:27.473415Z"
    }
   },
   "outputs": [],
   "source": [
    "sim_data_sample = sim_data.sample(100)\n",
    "sim_data_sample.to_csv(filepath + 'opossum_sim_complex_samp.csv', index=False)"
   ]
  }
 ],
 "metadata": {
  "kernelspec": {
   "display_name": "Python 3",
   "language": "python",
   "name": "python3"
  },
  "language_info": {
   "codemirror_mode": {
    "name": "ipython",
    "version": 3
   },
   "file_extension": ".py",
   "mimetype": "text/x-python",
   "name": "python",
   "nbconvert_exporter": "python",
   "pygments_lexer": "ipython3",
   "version": "3.6.8"
  },
  "toc": {
   "base_numbering": 1,
   "nav_menu": {},
   "number_sections": true,
   "sideBar": true,
   "skip_h1_title": false,
   "title_cell": "Table of Contents",
   "title_sidebar": "Contents",
   "toc_cell": false,
   "toc_position": {},
   "toc_section_display": true,
   "toc_window_display": false
  }
 },
 "nbformat": 4,
 "nbformat_minor": 2
}
